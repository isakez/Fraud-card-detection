{
 "cells": [
  {
   "cell_type": "markdown",
   "id": "3003af32-35f3-47cb-986e-fcebd24beb7a",
   "metadata": {},
   "source": [
    "### Description\n",
    "\n",
    "In this project we are going to recognize fraudulent credit card transactions so the customers are not charged for items that they did not purchase\n",
    "\n",
    "The data can be downloaded from: https://www.kaggle.com/mlg-ulb/creditcardfraud"
   ]
  },
  {
   "cell_type": "markdown",
   "id": "b1d9586b-1873-40a9-9cfd-c5fadd47a87d",
   "metadata": {
    "tags": []
   },
   "source": [
    "### 1. Library and packages"
   ]
  },
  {
   "cell_type": "markdown",
   "id": "2d0f19d9-bc41-4014-aba5-2c1fc9d461c5",
   "metadata": {},
   "source": [
    "First we should load the python libraries and packages"
   ]
  },
  {
   "cell_type": "code",
   "execution_count": 1,
   "id": "fa3a3d6f-bfbd-4457-b6cc-b4d8fdd999f5",
   "metadata": {},
   "outputs": [],
   "source": [
    "# Load libraries\n",
    "import numpy as np\n",
    "import pandas as pd\n",
    "from matplotlib import pyplot as plt\n",
    "from pandas import read_csv, set_option\n",
    "from pandas.plotting import scatter_matrix\n",
    "import seaborn as sns\n",
    "from sklearn.preprocessing import StandardScaler\n",
    "from sklearn.model_selection import train_test_split, KFold, cross_val_score, GridSearchCV\n",
    "from sklearn.linear_model import LogisticRegression\n",
    "from sklearn.tree import DecisionTreeClassifier\n",
    "from sklearn.neighbors import KNeighborsClassifier\n",
    "from sklearn.discriminant_analysis import LinearDiscriminantAnalysis\n",
    "from sklearn.naive_bayes import GaussianNB\n",
    "from sklearn.svm import SVC\n",
    "from sklearn.neural_network import MLPClassifier\n",
    "from sklearn.pipeline import Pipeline\n",
    "from sklearn.ensemble import AdaBoostClassifier, GradientBoostingClassifier, RandomForestClassifier, ExtraTreesClassifier\n",
    "from sklearn.metrics import classification_report, confusion_matrix, accuracy_score\n",
    "\n",
    "\n",
    "import random\n",
    "#Libraries for Saving the Model\n",
    "from pickle import dump\n",
    "from pickle import load"
   ]
  },
  {
   "cell_type": "code",
   "execution_count": 2,
   "id": "9e66215c-9cd4-4ff5-8795-62d610f985eb",
   "metadata": {},
   "outputs": [],
   "source": [
    "#Diable the warnings\n",
    "import warnings\n",
    "warnings.filterwarnings('ignore')"
   ]
  },
  {
   "cell_type": "markdown",
   "id": "0b780de1-4214-4d63-97d8-0325a82d866c",
   "metadata": {
    "tags": []
   },
   "source": [
    "### 2. Loading data"
   ]
  },
  {
   "cell_type": "markdown",
   "id": "10420816-f6c0-4934-9d8e-70b83b3eabc0",
   "metadata": {},
   "source": [
    "Next, we are going to load the dataset, which contains transactions mades by credit cards in september 2013 european cardholders"
   ]
  },
  {
   "cell_type": "code",
   "execution_count": 3,
   "id": "15fb518b-f7a7-4ecf-83de-421fcd642a13",
   "metadata": {},
   "outputs": [],
   "source": [
    "dataset = read_csv(\"creditcard.csv\")"
   ]
  },
  {
   "cell_type": "markdown",
   "id": "b5ed4d64-eb89-4122-b05a-bb7ddc24d642",
   "metadata": {},
   "source": [
    "### 3. Data exploration\n",
    "\n",
    "Here we will see the number of rows and columns, the type of variables that we are going to work, the number of different clases, if there are outliers and some descriptive analysis."
   ]
  },
  {
   "cell_type": "code",
   "execution_count": 4,
   "id": "b977d612-21ad-4d63-b65b-49b122a14a8d",
   "metadata": {},
   "outputs": [
    {
     "data": {
      "text/plain": [
       "(284807, 31)"
      ]
     },
     "execution_count": 4,
     "metadata": {},
     "output_type": "execute_result"
    }
   ],
   "source": [
    "dataset.shape"
   ]
  },
  {
   "cell_type": "code",
   "execution_count": 5,
   "id": "730c777a-4ece-421b-b757-e87ad1b655e8",
   "metadata": {},
   "outputs": [
    {
     "data": {
      "text/html": [
       "<div>\n",
       "<style scoped>\n",
       "    .dataframe tbody tr th:only-of-type {\n",
       "        vertical-align: middle;\n",
       "    }\n",
       "\n",
       "    .dataframe tbody tr th {\n",
       "        vertical-align: top;\n",
       "    }\n",
       "\n",
       "    .dataframe thead th {\n",
       "        text-align: right;\n",
       "    }\n",
       "</style>\n",
       "<table border=\"1\" class=\"dataframe\">\n",
       "  <thead>\n",
       "    <tr style=\"text-align: right;\">\n",
       "      <th></th>\n",
       "      <th>Time</th>\n",
       "      <th>V1</th>\n",
       "      <th>V2</th>\n",
       "      <th>V3</th>\n",
       "      <th>V4</th>\n",
       "      <th>V5</th>\n",
       "      <th>V6</th>\n",
       "      <th>V7</th>\n",
       "      <th>V8</th>\n",
       "      <th>V9</th>\n",
       "      <th>...</th>\n",
       "      <th>V21</th>\n",
       "      <th>V22</th>\n",
       "      <th>V23</th>\n",
       "      <th>V24</th>\n",
       "      <th>V25</th>\n",
       "      <th>V26</th>\n",
       "      <th>V27</th>\n",
       "      <th>V28</th>\n",
       "      <th>Amount</th>\n",
       "      <th>Class</th>\n",
       "    </tr>\n",
       "  </thead>\n",
       "  <tbody>\n",
       "    <tr>\n",
       "      <th>0</th>\n",
       "      <td>0.0</td>\n",
       "      <td>-1.359807</td>\n",
       "      <td>-0.072781</td>\n",
       "      <td>2.536347</td>\n",
       "      <td>1.378155</td>\n",
       "      <td>-0.338321</td>\n",
       "      <td>0.462388</td>\n",
       "      <td>0.239599</td>\n",
       "      <td>0.098698</td>\n",
       "      <td>0.363787</td>\n",
       "      <td>...</td>\n",
       "      <td>-0.018307</td>\n",
       "      <td>0.277838</td>\n",
       "      <td>-0.110474</td>\n",
       "      <td>0.066928</td>\n",
       "      <td>0.128539</td>\n",
       "      <td>-0.189115</td>\n",
       "      <td>0.133558</td>\n",
       "      <td>-0.021053</td>\n",
       "      <td>149.62</td>\n",
       "      <td>0</td>\n",
       "    </tr>\n",
       "    <tr>\n",
       "      <th>1</th>\n",
       "      <td>0.0</td>\n",
       "      <td>1.191857</td>\n",
       "      <td>0.266151</td>\n",
       "      <td>0.166480</td>\n",
       "      <td>0.448154</td>\n",
       "      <td>0.060018</td>\n",
       "      <td>-0.082361</td>\n",
       "      <td>-0.078803</td>\n",
       "      <td>0.085102</td>\n",
       "      <td>-0.255425</td>\n",
       "      <td>...</td>\n",
       "      <td>-0.225775</td>\n",
       "      <td>-0.638672</td>\n",
       "      <td>0.101288</td>\n",
       "      <td>-0.339846</td>\n",
       "      <td>0.167170</td>\n",
       "      <td>0.125895</td>\n",
       "      <td>-0.008983</td>\n",
       "      <td>0.014724</td>\n",
       "      <td>2.69</td>\n",
       "      <td>0</td>\n",
       "    </tr>\n",
       "    <tr>\n",
       "      <th>2</th>\n",
       "      <td>1.0</td>\n",
       "      <td>-1.358354</td>\n",
       "      <td>-1.340163</td>\n",
       "      <td>1.773209</td>\n",
       "      <td>0.379780</td>\n",
       "      <td>-0.503198</td>\n",
       "      <td>1.800499</td>\n",
       "      <td>0.791461</td>\n",
       "      <td>0.247676</td>\n",
       "      <td>-1.514654</td>\n",
       "      <td>...</td>\n",
       "      <td>0.247998</td>\n",
       "      <td>0.771679</td>\n",
       "      <td>0.909412</td>\n",
       "      <td>-0.689281</td>\n",
       "      <td>-0.327642</td>\n",
       "      <td>-0.139097</td>\n",
       "      <td>-0.055353</td>\n",
       "      <td>-0.059752</td>\n",
       "      <td>378.66</td>\n",
       "      <td>0</td>\n",
       "    </tr>\n",
       "    <tr>\n",
       "      <th>3</th>\n",
       "      <td>1.0</td>\n",
       "      <td>-0.966272</td>\n",
       "      <td>-0.185226</td>\n",
       "      <td>1.792993</td>\n",
       "      <td>-0.863291</td>\n",
       "      <td>-0.010309</td>\n",
       "      <td>1.247203</td>\n",
       "      <td>0.237609</td>\n",
       "      <td>0.377436</td>\n",
       "      <td>-1.387024</td>\n",
       "      <td>...</td>\n",
       "      <td>-0.108300</td>\n",
       "      <td>0.005274</td>\n",
       "      <td>-0.190321</td>\n",
       "      <td>-1.175575</td>\n",
       "      <td>0.647376</td>\n",
       "      <td>-0.221929</td>\n",
       "      <td>0.062723</td>\n",
       "      <td>0.061458</td>\n",
       "      <td>123.50</td>\n",
       "      <td>0</td>\n",
       "    </tr>\n",
       "    <tr>\n",
       "      <th>4</th>\n",
       "      <td>2.0</td>\n",
       "      <td>-1.158233</td>\n",
       "      <td>0.877737</td>\n",
       "      <td>1.548718</td>\n",
       "      <td>0.403034</td>\n",
       "      <td>-0.407193</td>\n",
       "      <td>0.095921</td>\n",
       "      <td>0.592941</td>\n",
       "      <td>-0.270533</td>\n",
       "      <td>0.817739</td>\n",
       "      <td>...</td>\n",
       "      <td>-0.009431</td>\n",
       "      <td>0.798278</td>\n",
       "      <td>-0.137458</td>\n",
       "      <td>0.141267</td>\n",
       "      <td>-0.206010</td>\n",
       "      <td>0.502292</td>\n",
       "      <td>0.219422</td>\n",
       "      <td>0.215153</td>\n",
       "      <td>69.99</td>\n",
       "      <td>0</td>\n",
       "    </tr>\n",
       "  </tbody>\n",
       "</table>\n",
       "<p>5 rows × 31 columns</p>\n",
       "</div>"
      ],
      "text/plain": [
       "   Time        V1        V2        V3        V4        V5        V6        V7        V8        V9  \\\n",
       "0   0.0 -1.359807 -0.072781  2.536347  1.378155 -0.338321  0.462388  0.239599  0.098698  0.363787   \n",
       "1   0.0  1.191857  0.266151  0.166480  0.448154  0.060018 -0.082361 -0.078803  0.085102 -0.255425   \n",
       "2   1.0 -1.358354 -1.340163  1.773209  0.379780 -0.503198  1.800499  0.791461  0.247676 -1.514654   \n",
       "3   1.0 -0.966272 -0.185226  1.792993 -0.863291 -0.010309  1.247203  0.237609  0.377436 -1.387024   \n",
       "4   2.0 -1.158233  0.877737  1.548718  0.403034 -0.407193  0.095921  0.592941 -0.270533  0.817739   \n",
       "\n",
       "   ...       V21       V22       V23       V24       V25       V26       V27       V28  Amount  \\\n",
       "0  ... -0.018307  0.277838 -0.110474  0.066928  0.128539 -0.189115  0.133558 -0.021053  149.62   \n",
       "1  ... -0.225775 -0.638672  0.101288 -0.339846  0.167170  0.125895 -0.008983  0.014724    2.69   \n",
       "2  ...  0.247998  0.771679  0.909412 -0.689281 -0.327642 -0.139097 -0.055353 -0.059752  378.66   \n",
       "3  ... -0.108300  0.005274 -0.190321 -1.175575  0.647376 -0.221929  0.062723  0.061458  123.50   \n",
       "4  ... -0.009431  0.798278 -0.137458  0.141267 -0.206010  0.502292  0.219422  0.215153   69.99   \n",
       "\n",
       "   Class  \n",
       "0      0  \n",
       "1      0  \n",
       "2      0  \n",
       "3      0  \n",
       "4      0  \n",
       "\n",
       "[5 rows x 31 columns]"
      ]
     },
     "execution_count": 5,
     "metadata": {},
     "output_type": "execute_result"
    }
   ],
   "source": [
    "set_option('display.width', 100)\n",
    "dataset.head(5)"
   ]
  },
  {
   "cell_type": "code",
   "execution_count": 6,
   "id": "0195561e-868a-469c-9c58-960a31c7c19b",
   "metadata": {},
   "outputs": [
    {
     "data": {
      "text/plain": [
       "Time      float64\n",
       "V1        float64\n",
       "V2        float64\n",
       "V3        float64\n",
       "V4        float64\n",
       "V5        float64\n",
       "V6        float64\n",
       "V7        float64\n",
       "V8        float64\n",
       "V9        float64\n",
       "V10       float64\n",
       "V11       float64\n",
       "V12       float64\n",
       "V13       float64\n",
       "V14       float64\n",
       "V15       float64\n",
       "V16       float64\n",
       "V17       float64\n",
       "V18       float64\n",
       "V19       float64\n",
       "V20       float64\n",
       "V21       float64\n",
       "V22       float64\n",
       "V23       float64\n",
       "V24       float64\n",
       "V25       float64\n",
       "V26       float64\n",
       "V27       float64\n",
       "V28       float64\n",
       "Amount    float64\n",
       "Class       int64\n",
       "dtype: object"
      ]
     },
     "execution_count": 6,
     "metadata": {},
     "output_type": "execute_result"
    }
   ],
   "source": [
    "dataset.dtypes"
   ]
  },
  {
   "cell_type": "code",
   "execution_count": 7,
   "id": "ad652c98-397a-4ed4-b835-942ecca57be2",
   "metadata": {},
   "outputs": [
    {
     "data": {
      "text/html": [
       "<div>\n",
       "<style scoped>\n",
       "    .dataframe tbody tr th:only-of-type {\n",
       "        vertical-align: middle;\n",
       "    }\n",
       "\n",
       "    .dataframe tbody tr th {\n",
       "        vertical-align: top;\n",
       "    }\n",
       "\n",
       "    .dataframe thead th {\n",
       "        text-align: right;\n",
       "    }\n",
       "</style>\n",
       "<table border=\"1\" class=\"dataframe\">\n",
       "  <thead>\n",
       "    <tr style=\"text-align: right;\">\n",
       "      <th></th>\n",
       "      <th>Time</th>\n",
       "      <th>V1</th>\n",
       "      <th>V2</th>\n",
       "      <th>V3</th>\n",
       "      <th>V4</th>\n",
       "      <th>V5</th>\n",
       "      <th>V6</th>\n",
       "      <th>V7</th>\n",
       "      <th>V8</th>\n",
       "      <th>V9</th>\n",
       "      <th>...</th>\n",
       "      <th>V21</th>\n",
       "      <th>V22</th>\n",
       "      <th>V23</th>\n",
       "      <th>V24</th>\n",
       "      <th>V25</th>\n",
       "      <th>V26</th>\n",
       "      <th>V27</th>\n",
       "      <th>V28</th>\n",
       "      <th>Amount</th>\n",
       "      <th>Class</th>\n",
       "    </tr>\n",
       "  </thead>\n",
       "  <tbody>\n",
       "    <tr>\n",
       "      <th>count</th>\n",
       "      <td>284807.000</td>\n",
       "      <td>2.848e+05</td>\n",
       "      <td>2.848e+05</td>\n",
       "      <td>2.848e+05</td>\n",
       "      <td>2.848e+05</td>\n",
       "      <td>2.848e+05</td>\n",
       "      <td>2.848e+05</td>\n",
       "      <td>2.848e+05</td>\n",
       "      <td>2.848e+05</td>\n",
       "      <td>2.848e+05</td>\n",
       "      <td>...</td>\n",
       "      <td>2.848e+05</td>\n",
       "      <td>2.848e+05</td>\n",
       "      <td>2.848e+05</td>\n",
       "      <td>2.848e+05</td>\n",
       "      <td>2.848e+05</td>\n",
       "      <td>2.848e+05</td>\n",
       "      <td>2.848e+05</td>\n",
       "      <td>2.848e+05</td>\n",
       "      <td>284807.000</td>\n",
       "      <td>284807.000</td>\n",
       "    </tr>\n",
       "    <tr>\n",
       "      <th>mean</th>\n",
       "      <td>94813.860</td>\n",
       "      <td>1.168e-15</td>\n",
       "      <td>3.417e-16</td>\n",
       "      <td>-1.380e-15</td>\n",
       "      <td>2.074e-15</td>\n",
       "      <td>9.604e-16</td>\n",
       "      <td>1.487e-15</td>\n",
       "      <td>-5.556e-16</td>\n",
       "      <td>1.213e-16</td>\n",
       "      <td>-2.406e-15</td>\n",
       "      <td>...</td>\n",
       "      <td>1.654e-16</td>\n",
       "      <td>-3.569e-16</td>\n",
       "      <td>2.579e-16</td>\n",
       "      <td>4.473e-15</td>\n",
       "      <td>5.341e-16</td>\n",
       "      <td>1.683e-15</td>\n",
       "      <td>-3.660e-16</td>\n",
       "      <td>-1.227e-16</td>\n",
       "      <td>88.350</td>\n",
       "      <td>0.002</td>\n",
       "    </tr>\n",
       "    <tr>\n",
       "      <th>std</th>\n",
       "      <td>47488.146</td>\n",
       "      <td>1.959e+00</td>\n",
       "      <td>1.651e+00</td>\n",
       "      <td>1.516e+00</td>\n",
       "      <td>1.416e+00</td>\n",
       "      <td>1.380e+00</td>\n",
       "      <td>1.332e+00</td>\n",
       "      <td>1.237e+00</td>\n",
       "      <td>1.194e+00</td>\n",
       "      <td>1.099e+00</td>\n",
       "      <td>...</td>\n",
       "      <td>7.345e-01</td>\n",
       "      <td>7.257e-01</td>\n",
       "      <td>6.245e-01</td>\n",
       "      <td>6.056e-01</td>\n",
       "      <td>5.213e-01</td>\n",
       "      <td>4.822e-01</td>\n",
       "      <td>4.036e-01</td>\n",
       "      <td>3.301e-01</td>\n",
       "      <td>250.120</td>\n",
       "      <td>0.042</td>\n",
       "    </tr>\n",
       "    <tr>\n",
       "      <th>min</th>\n",
       "      <td>0.000</td>\n",
       "      <td>-5.641e+01</td>\n",
       "      <td>-7.272e+01</td>\n",
       "      <td>-4.833e+01</td>\n",
       "      <td>-5.683e+00</td>\n",
       "      <td>-1.137e+02</td>\n",
       "      <td>-2.616e+01</td>\n",
       "      <td>-4.356e+01</td>\n",
       "      <td>-7.322e+01</td>\n",
       "      <td>-1.343e+01</td>\n",
       "      <td>...</td>\n",
       "      <td>-3.483e+01</td>\n",
       "      <td>-1.093e+01</td>\n",
       "      <td>-4.481e+01</td>\n",
       "      <td>-2.837e+00</td>\n",
       "      <td>-1.030e+01</td>\n",
       "      <td>-2.605e+00</td>\n",
       "      <td>-2.257e+01</td>\n",
       "      <td>-1.543e+01</td>\n",
       "      <td>0.000</td>\n",
       "      <td>0.000</td>\n",
       "    </tr>\n",
       "    <tr>\n",
       "      <th>25%</th>\n",
       "      <td>54201.500</td>\n",
       "      <td>-9.204e-01</td>\n",
       "      <td>-5.985e-01</td>\n",
       "      <td>-8.904e-01</td>\n",
       "      <td>-8.486e-01</td>\n",
       "      <td>-6.916e-01</td>\n",
       "      <td>-7.683e-01</td>\n",
       "      <td>-5.541e-01</td>\n",
       "      <td>-2.086e-01</td>\n",
       "      <td>-6.431e-01</td>\n",
       "      <td>...</td>\n",
       "      <td>-2.284e-01</td>\n",
       "      <td>-5.424e-01</td>\n",
       "      <td>-1.618e-01</td>\n",
       "      <td>-3.546e-01</td>\n",
       "      <td>-3.171e-01</td>\n",
       "      <td>-3.270e-01</td>\n",
       "      <td>-7.084e-02</td>\n",
       "      <td>-5.296e-02</td>\n",
       "      <td>5.600</td>\n",
       "      <td>0.000</td>\n",
       "    </tr>\n",
       "    <tr>\n",
       "      <th>50%</th>\n",
       "      <td>84692.000</td>\n",
       "      <td>1.811e-02</td>\n",
       "      <td>6.549e-02</td>\n",
       "      <td>1.798e-01</td>\n",
       "      <td>-1.985e-02</td>\n",
       "      <td>-5.434e-02</td>\n",
       "      <td>-2.742e-01</td>\n",
       "      <td>4.010e-02</td>\n",
       "      <td>2.236e-02</td>\n",
       "      <td>-5.143e-02</td>\n",
       "      <td>...</td>\n",
       "      <td>-2.945e-02</td>\n",
       "      <td>6.782e-03</td>\n",
       "      <td>-1.119e-02</td>\n",
       "      <td>4.098e-02</td>\n",
       "      <td>1.659e-02</td>\n",
       "      <td>-5.214e-02</td>\n",
       "      <td>1.342e-03</td>\n",
       "      <td>1.124e-02</td>\n",
       "      <td>22.000</td>\n",
       "      <td>0.000</td>\n",
       "    </tr>\n",
       "    <tr>\n",
       "      <th>75%</th>\n",
       "      <td>139320.500</td>\n",
       "      <td>1.316e+00</td>\n",
       "      <td>8.037e-01</td>\n",
       "      <td>1.027e+00</td>\n",
       "      <td>7.433e-01</td>\n",
       "      <td>6.119e-01</td>\n",
       "      <td>3.986e-01</td>\n",
       "      <td>5.704e-01</td>\n",
       "      <td>3.273e-01</td>\n",
       "      <td>5.971e-01</td>\n",
       "      <td>...</td>\n",
       "      <td>1.864e-01</td>\n",
       "      <td>5.286e-01</td>\n",
       "      <td>1.476e-01</td>\n",
       "      <td>4.395e-01</td>\n",
       "      <td>3.507e-01</td>\n",
       "      <td>2.410e-01</td>\n",
       "      <td>9.105e-02</td>\n",
       "      <td>7.828e-02</td>\n",
       "      <td>77.165</td>\n",
       "      <td>0.000</td>\n",
       "    </tr>\n",
       "    <tr>\n",
       "      <th>max</th>\n",
       "      <td>172792.000</td>\n",
       "      <td>2.455e+00</td>\n",
       "      <td>2.206e+01</td>\n",
       "      <td>9.383e+00</td>\n",
       "      <td>1.688e+01</td>\n",
       "      <td>3.480e+01</td>\n",
       "      <td>7.330e+01</td>\n",
       "      <td>1.206e+02</td>\n",
       "      <td>2.001e+01</td>\n",
       "      <td>1.559e+01</td>\n",
       "      <td>...</td>\n",
       "      <td>2.720e+01</td>\n",
       "      <td>1.050e+01</td>\n",
       "      <td>2.253e+01</td>\n",
       "      <td>4.585e+00</td>\n",
       "      <td>7.520e+00</td>\n",
       "      <td>3.517e+00</td>\n",
       "      <td>3.161e+01</td>\n",
       "      <td>3.385e+01</td>\n",
       "      <td>25691.160</td>\n",
       "      <td>1.000</td>\n",
       "    </tr>\n",
       "  </tbody>\n",
       "</table>\n",
       "<p>8 rows × 31 columns</p>\n",
       "</div>"
      ],
      "text/plain": [
       "             Time         V1         V2         V3         V4         V5         V6         V7  \\\n",
       "count  284807.000  2.848e+05  2.848e+05  2.848e+05  2.848e+05  2.848e+05  2.848e+05  2.848e+05   \n",
       "mean    94813.860  1.168e-15  3.417e-16 -1.380e-15  2.074e-15  9.604e-16  1.487e-15 -5.556e-16   \n",
       "std     47488.146  1.959e+00  1.651e+00  1.516e+00  1.416e+00  1.380e+00  1.332e+00  1.237e+00   \n",
       "min         0.000 -5.641e+01 -7.272e+01 -4.833e+01 -5.683e+00 -1.137e+02 -2.616e+01 -4.356e+01   \n",
       "25%     54201.500 -9.204e-01 -5.985e-01 -8.904e-01 -8.486e-01 -6.916e-01 -7.683e-01 -5.541e-01   \n",
       "50%     84692.000  1.811e-02  6.549e-02  1.798e-01 -1.985e-02 -5.434e-02 -2.742e-01  4.010e-02   \n",
       "75%    139320.500  1.316e+00  8.037e-01  1.027e+00  7.433e-01  6.119e-01  3.986e-01  5.704e-01   \n",
       "max    172792.000  2.455e+00  2.206e+01  9.383e+00  1.688e+01  3.480e+01  7.330e+01  1.206e+02   \n",
       "\n",
       "              V8         V9  ...        V21        V22        V23        V24        V25  \\\n",
       "count  2.848e+05  2.848e+05  ...  2.848e+05  2.848e+05  2.848e+05  2.848e+05  2.848e+05   \n",
       "mean   1.213e-16 -2.406e-15  ...  1.654e-16 -3.569e-16  2.579e-16  4.473e-15  5.341e-16   \n",
       "std    1.194e+00  1.099e+00  ...  7.345e-01  7.257e-01  6.245e-01  6.056e-01  5.213e-01   \n",
       "min   -7.322e+01 -1.343e+01  ... -3.483e+01 -1.093e+01 -4.481e+01 -2.837e+00 -1.030e+01   \n",
       "25%   -2.086e-01 -6.431e-01  ... -2.284e-01 -5.424e-01 -1.618e-01 -3.546e-01 -3.171e-01   \n",
       "50%    2.236e-02 -5.143e-02  ... -2.945e-02  6.782e-03 -1.119e-02  4.098e-02  1.659e-02   \n",
       "75%    3.273e-01  5.971e-01  ...  1.864e-01  5.286e-01  1.476e-01  4.395e-01  3.507e-01   \n",
       "max    2.001e+01  1.559e+01  ...  2.720e+01  1.050e+01  2.253e+01  4.585e+00  7.520e+00   \n",
       "\n",
       "             V26        V27        V28      Amount       Class  \n",
       "count  2.848e+05  2.848e+05  2.848e+05  284807.000  284807.000  \n",
       "mean   1.683e-15 -3.660e-16 -1.227e-16      88.350       0.002  \n",
       "std    4.822e-01  4.036e-01  3.301e-01     250.120       0.042  \n",
       "min   -2.605e+00 -2.257e+01 -1.543e+01       0.000       0.000  \n",
       "25%   -3.270e-01 -7.084e-02 -5.296e-02       5.600       0.000  \n",
       "50%   -5.214e-02  1.342e-03  1.124e-02      22.000       0.000  \n",
       "75%    2.410e-01  9.105e-02  7.828e-02      77.165       0.000  \n",
       "max    3.517e+00  3.161e+01  3.385e+01   25691.160       1.000  \n",
       "\n",
       "[8 rows x 31 columns]"
      ]
     },
     "execution_count": 7,
     "metadata": {},
     "output_type": "execute_result"
    }
   ],
   "source": [
    "set_option('display.precision', 3)\n",
    "dataset.describe()"
   ]
  },
  {
   "cell_type": "code",
   "execution_count": 8,
   "id": "fc9ea4ed-336a-4b81-8f3e-1626614c7283",
   "metadata": {},
   "outputs": [
    {
     "name": "stdout",
     "output_type": "stream",
     "text": [
      "Not fraud    284315\n",
      "Fraud           492\n",
      "Name: Class, dtype: int64\n"
     ]
    }
   ],
   "source": [
    "class_names = {0:'Not fraud',1:'Fraud'}\n",
    "print(dataset.Class.value_counts().rename(index=class_names))"
   ]
  },
  {
   "cell_type": "code",
   "execution_count": 9,
   "id": "d4283112-171f-40d3-bb99-4c3a0e6a3c34",
   "metadata": {
    "tags": []
   },
   "outputs": [
    {
     "name": "stdout",
     "output_type": "stream",
     "text": [
      "Null Values = False\n",
      "nan values = Time      0\n",
      "V1        0\n",
      "V2        0\n",
      "V3        0\n",
      "V4        0\n",
      "V5        0\n",
      "V6        0\n",
      "V7        0\n",
      "V8        0\n",
      "V9        0\n",
      "V10       0\n",
      "V11       0\n",
      "V12       0\n",
      "V13       0\n",
      "V14       0\n",
      "V15       0\n",
      "V16       0\n",
      "V17       0\n",
      "V18       0\n",
      "V19       0\n",
      "V20       0\n",
      "V21       0\n",
      "V22       0\n",
      "V23       0\n",
      "V24       0\n",
      "V25       0\n",
      "V26       0\n",
      "V27       0\n",
      "V28       0\n",
      "Amount    0\n",
      "Class     0\n",
      "dtype: int64\n"
     ]
    }
   ],
   "source": [
    "print('Null Values =',dataset.isnull().values.any())\n",
    "print('nan values =',dataset.isna().sum())"
   ]
  },
  {
   "cell_type": "markdown",
   "id": "a99f9b69-806f-41c9-a77c-562410bad488",
   "metadata": {},
   "source": [
    "there is not null or Nan values\n"
   ]
  },
  {
   "cell_type": "markdown",
   "id": "7cdd00e0-e471-4c73-ae60-2f9a9463e116",
   "metadata": {
    "tags": []
   },
   "source": [
    "#### 3.1 Data visualization\n"
   ]
  },
  {
   "cell_type": "code",
   "execution_count": 10,
   "id": "d2fdab72-2e95-4284-9852-028d558ce9ab",
   "metadata": {},
   "outputs": [
    {
     "data": {
      "image/png": "[encoded data removed]",
      "text/plain": [
       "<Figure size 1200x1200 with 36 Axes>"
      ]
     },
     "metadata": {},
     "output_type": "display_data"
    }
   ],
   "source": [
    "dataset.hist(sharex=False, sharey=False, xlabelsize=1, ylabelsize=1, figsize=(12,12))\n",
    "plt.show()"
   ]
  },
  {
   "cell_type": "markdown",
   "id": "8fd85732-e818-4360-9545-8824fbedc232",
   "metadata": {},
   "source": [
    "I want to know if there is outliers, it appears that there is a lot of them, but we don't know anything about the variables V1 to V28 so is not obvius the decision of droping all the outliers, what I can do is compare the results of training with this dataset and a dataset modified without outliers."
   ]
  },
  {
   "cell_type": "markdown",
   "id": "4810a6cb-da17-4966-a439-458683e837ba",
   "metadata": {},
   "source": [
    "### 4. Data preparation"
   ]
  },
  {
   "cell_type": "code",
   "execution_count": 11,
   "id": "ce3e9e62-e03a-44e3-a116-6bb70c6ad98e",
   "metadata": {},
   "outputs": [
    {
     "name": "stdout",
     "output_type": "stream",
     "text": [
      "   Specs      Score\n",
      "17   V17  33979.169\n",
      "14   V14  28695.548\n",
      "12   V12  20749.822\n",
      "10   V10  14057.980\n",
      "16   V16  11443.349\n",
      "3     V3  11014.508\n",
      "7     V7  10349.605\n",
      "11   V11   6999.355\n",
      "4     V4   5163.832\n",
      "18   V18   3584.381\n"
     ]
    }
   ],
   "source": [
    "from sklearn.feature_selection import SelectKBest\n",
    "from sklearn.feature_selection import chi2\n",
    "\n",
    "bestfeatures = SelectKBest( k=10)\n",
    "bestfeatures\n",
    "Y= dataset[\"Class\"]\n",
    "X = dataset.loc[:, dataset.columns != 'Class']\n",
    "fit = bestfeatures.fit(X,Y)\n",
    "dfscores = pd.DataFrame(fit.scores_)\n",
    "dfcolumns = pd.DataFrame(X.columns)\n",
    "#concat two dataframes for better visualization \n",
    "featureScores = pd.concat([dfcolumns,dfscores],axis=1)\n",
    "featureScores.columns = ['Specs','Score']  #naming the dataframe columns\n",
    "print(featureScores.nlargest(10,'Score'))  #print 10 best features"
   ]
  },
  {
   "cell_type": "markdown",
   "id": "47159a97-fbbb-4a89-9cab-1e36b56c2ca2",
   "metadata": {},
   "source": [
    "### 5.Training models and evaluate"
   ]
  },
  {
   "cell_type": "code",
   "execution_count": 12,
   "id": "c5a52063-e2ca-4753-874b-34f3fecf4672",
   "metadata": {},
   "outputs": [],
   "source": [
    "# split out validation dataset for the end\n",
    "Y= dataset[\"Class\"]\n",
    "X = dataset.loc[:, dataset.columns != 'Class']\n",
    "validation_size = 0.2\n",
    "seed = random.seed()\n",
    "\n",
    "X_train, X_val, Y_train, Y_val = train_test_split(X, Y, test_size=validation_size, random_state=seed)\n",
    "\n",
    "scoring = 'accuracy'\n",
    "\n",
    "# X_train and Y_train: Training data (used for model training)\n",
    "# X_val and Y_val: Validation data (used for model evaluation and hyperparameter tuning, if needed)\n"
   ]
  },
  {
   "cell_type": "markdown",
   "id": "c0e15422-6a62-466c-8db1-ab2cee6af4df",
   "metadata": {},
   "source": [
    "I want to have the classic train/test split and a separate portion of my dataset to evaluate the final model"
   ]
  },
  {
   "cell_type": "code",
   "execution_count": 13,
   "id": "37dac0c9-9b5e-4147-9dc5-33db8be9b80b",
   "metadata": {},
   "outputs": [],
   "source": [
    "# test options for classification\n",
    "num_folds = 10"
   ]
  },
  {
   "cell_type": "code",
   "execution_count": 14,
   "id": "22948ecb-885f-4c02-98e2-81ba52773b18",
   "metadata": {},
   "outputs": [],
   "source": [
    "models = []\n",
    "models.append(('LR', LogisticRegression()))\n",
    "models.append(('LDA', LinearDiscriminantAnalysis()))\n",
    "models.append(('KNN', KNeighborsClassifier()))\n",
    "models.append(('CART', DecisionTreeClassifier()))"
   ]
  },
  {
   "cell_type": "code",
   "execution_count": 15,
   "id": "2bd7d88b-564b-434e-bc9f-7d65b54ec907",
   "metadata": {},
   "outputs": [
    {
     "name": "stdout",
     "output_type": "stream",
     "text": [
      "LR: 0.998881 (0.000177)\n",
      "LDA: 0.999368 (0.000198)\n",
      "KNN: 0.998350 (0.000394)\n",
      "CART: 0.999056 (0.000245)\n"
     ]
    }
   ],
   "source": [
    "results = []\n",
    "names = []\n",
    "for name, model in models:\n",
    "    kfold = KFold(n_splits=num_folds, random_state=seed,shuffle=True)\n",
    "    cv_results = cross_val_score(model, X_train, Y_train, cv=kfold, scoring=scoring)\n",
    "    results.append(cv_results)\n",
    "    names.append(name)\n",
    "    msg = \"%s: %f (%f)\" % (name, cv_results.mean(), cv_results.std())\n",
    "    print(msg)"
   ]
  },
  {
   "cell_type": "code",
   "execution_count": 16,
   "id": "fe25dc10-3022-4d83-8f29-eaf71c0b20ac",
   "metadata": {},
   "outputs": [
    {
     "data": {
      "image/png": "[encoded data removed]",
      "text/plain": [
       "<Figure size 800x400 with 1 Axes>"
      ]
     },
     "metadata": {},
     "output_type": "display_data"
    }
   ],
   "source": [
    "# compare algorithms\n",
    "fig = plt.figure()\n",
    "fig.suptitle('Algorithm Comparison')\n",
    "ax = fig.add_subplot(111)\n",
    "plt.boxplot(results)\n",
    "ax.set_xticklabels(names)\n",
    "fig.set_size_inches(8,4)\n",
    "plt.show()"
   ]
  },
  {
   "cell_type": "code",
   "execution_count": 17,
   "id": "79a4b202-daa0-490b-a32b-58dd0ae70d6e",
   "metadata": {},
   "outputs": [
    {
     "data": {
      "text/html": [
       "<style>#sk-container-id-1 {color: black;background-color: white;}#sk-container-id-1 pre{padding: 0;}#sk-container-id-1 div.sk-toggleable {background-color: white;}#sk-container-id-1 label.sk-toggleable__label {cursor: pointer;display: block;width: 100%;margin-bottom: 0;padding: 0.3em;box-sizing: border-box;text-align: center;}#sk-container-id-1 label.sk-toggleable__label-arrow:before {content: \"▸\";float: left;margin-right: 0.25em;color: #696969;}#sk-container-id-1 label.sk-toggleable__label-arrow:hover:before {color: black;}#sk-container-id-1 div.sk-estimator:hover label.sk-toggleable__label-arrow:before {color: black;}#sk-container-id-1 div.sk-toggleable__content {max-height: 0;max-width: 0;overflow: hidden;text-align: left;background-color: #f0f8ff;}#sk-container-id-1 div.sk-toggleable__content pre {margin: 0.2em;color: black;border-radius: 0.25em;background-color: #f0f8ff;}#sk-container-id-1 input.sk-toggleable__control:checked~div.sk-toggleable__content {max-height: 200px;max-width: 100%;overflow: auto;}#sk-container-id-1 input.sk-toggleable__control:checked~label.sk-toggleable__label-arrow:before {content: \"▾\";}#sk-container-id-1 div.sk-estimator input.sk-toggleable__control:checked~label.sk-toggleable__label {background-color: #d4ebff;}#sk-container-id-1 div.sk-label input.sk-toggleable__control:checked~label.sk-toggleable__label {background-color: #d4ebff;}#sk-container-id-1 input.sk-hidden--visually {border: 0;clip: rect(1px 1px 1px 1px);clip: rect(1px, 1px, 1px, 1px);height: 1px;margin: -1px;overflow: hidden;padding: 0;position: absolute;width: 1px;}#sk-container-id-1 div.sk-estimator {font-family: monospace;background-color: #f0f8ff;border: 1px dotted black;border-radius: 0.25em;box-sizing: border-box;margin-bottom: 0.5em;}#sk-container-id-1 div.sk-estimator:hover {background-color: #d4ebff;}#sk-container-id-1 div.sk-parallel-item::after {content: \"\";width: 100%;border-bottom: 1px solid gray;flex-grow: 1;}#sk-container-id-1 div.sk-label:hover label.sk-toggleable__label {background-color: #d4ebff;}#sk-container-id-1 div.sk-serial::before {content: \"\";position: absolute;border-left: 1px solid gray;box-sizing: border-box;top: 0;bottom: 0;left: 50%;z-index: 0;}#sk-container-id-1 div.sk-serial {display: flex;flex-direction: column;align-items: center;background-color: white;padding-right: 0.2em;padding-left: 0.2em;position: relative;}#sk-container-id-1 div.sk-item {position: relative;z-index: 1;}#sk-container-id-1 div.sk-parallel {display: flex;align-items: stretch;justify-content: center;background-color: white;position: relative;}#sk-container-id-1 div.sk-item::before, #sk-container-id-1 div.sk-parallel-item::before {content: \"\";position: absolute;border-left: 1px solid gray;box-sizing: border-box;top: 0;bottom: 0;left: 50%;z-index: -1;}#sk-container-id-1 div.sk-parallel-item {display: flex;flex-direction: column;z-index: 1;position: relative;background-color: white;}#sk-container-id-1 div.sk-parallel-item:first-child::after {align-self: flex-end;width: 50%;}#sk-container-id-1 div.sk-parallel-item:last-child::after {align-self: flex-start;width: 50%;}#sk-container-id-1 div.sk-parallel-item:only-child::after {width: 0;}#sk-container-id-1 div.sk-dashed-wrapped {border: 1px dashed gray;margin: 0 0.4em 0.5em 0.4em;box-sizing: border-box;padding-bottom: 0.4em;background-color: white;}#sk-container-id-1 div.sk-label label {font-family: monospace;font-weight: bold;display: inline-block;line-height: 1.2em;}#sk-container-id-1 div.sk-label-container {text-align: center;}#sk-container-id-1 div.sk-container {/* jupyter's `normalize.less` sets `[hidden] { display: none; }` but bootstrap.min.css set `[hidden] { display: none !important; }` so we also need the `!important` here to be able to override the default hidden behavior on the sphinx rendered scikit-learn.org. See: https://github.com/scikit-learn/scikit-learn/issues/21755 */display: inline-block !important;position: relative;}#sk-container-id-1 div.sk-text-repr-fallback {display: none;}</style><div id=\"sk-container-id-1\" class=\"sk-top-container\"><div class=\"sk-text-repr-fallback\"><pre>DecisionTreeClassifier()</pre><b>In a Jupyter environment, please rerun this cell to show the HTML representation or trust the notebook. <br />On GitHub, the HTML representation is unable to render, please try loading this page with nbviewer.org.</b></div><div class=\"sk-container\" hidden><div class=\"sk-item\"><div class=\"sk-estimator sk-toggleable\"><input class=\"sk-toggleable__control sk-hidden--visually\" id=\"sk-estimator-id-1\" type=\"checkbox\" checked><label for=\"sk-estimator-id-1\" class=\"sk-toggleable__label sk-toggleable__label-arrow\">DecisionTreeClassifier</label><div class=\"sk-toggleable__content\"><pre>DecisionTreeClassifier()</pre></div></div></div></div></div>"
      ],
      "text/plain": [
       "DecisionTreeClassifier()"
      ]
     },
     "execution_count": 17,
     "metadata": {},
     "output_type": "execute_result"
    }
   ],
   "source": [
    "model = DecisionTreeClassifier()\n",
    "model.fit(X_train, Y_train)"
   ]
  },
  {
   "cell_type": "code",
   "execution_count": 18,
   "id": "6d967d3e-7ac0-4e43-a126-98b9d1463cf5",
   "metadata": {},
   "outputs": [
    {
     "name": "stdout",
     "output_type": "stream",
     "text": [
      "0.9990168884519505\n",
      "[[56828    41]\n",
      " [   15    78]]\n",
      "              precision    recall  f1-score   support\n",
      "\n",
      "           0       1.00      1.00      1.00     56869\n",
      "           1       0.66      0.84      0.74        93\n",
      "\n",
      "    accuracy                           1.00     56962\n",
      "   macro avg       0.83      0.92      0.87     56962\n",
      "weighted avg       1.00      1.00      1.00     56962\n",
      "\n"
     ]
    }
   ],
   "source": [
    "# estimate accuracy on validation set\n",
    "#rescaledValidationX = scaler.transform(X_validation)\n",
    "rescaledValidationX = X_val\n",
    "predictions = model.predict(rescaledValidationX)\n",
    "print(accuracy_score(Y_val, predictions))\n",
    "print(confusion_matrix(Y_val, predictions))\n",
    "print(classification_report(Y_val, predictions))"
   ]
  },
  {
   "cell_type": "code",
   "execution_count": 19,
   "id": "b5495f3c-1f2e-4132-b7a6-b88241675c36",
   "metadata": {},
   "outputs": [
    {
     "data": {
      "text/plain": [
       "<AxesSubplot: xlabel='Predicted', ylabel='Actual'>"
      ]
     },
     "execution_count": 19,
     "metadata": {},
     "output_type": "execute_result"
    },
    {
     "data": {
      "image/png": "[encoded data removed]",
      "text/plain": [
       "<Figure size 640x480 with 2 Axes>"
      ]
     },
     "metadata": {},
     "output_type": "display_data"
    }
   ],
   "source": [
    "df_cm = pd.DataFrame(confusion_matrix(Y_val, predictions), columns=np.unique(Y_val), index = np.unique(Y_val))\n",
    "df_cm.index.name = 'Actual'\n",
    "df_cm.columns.name = 'Predicted'\n",
    "sns.heatmap(df_cm, cmap=\"Blues\", annot=True,annot_kws={\"size\": 16})# font size"
   ]
  },
  {
   "cell_type": "markdown",
   "id": "c8e1fd30-c94d-49c0-8c7c-1e66f66fd11b",
   "metadata": {},
   "source": [
    "As we can see we have 22 false negatives, were we predict that is a valid card transaction but it isn't."
   ]
  },
  {
   "cell_type": "markdown",
   "id": "227b5a55-835e-4ee0-9898-28ed02cbdb1d",
   "metadata": {},
   "source": [
    "It appears that performs evenly well with datasets not used in his training"
   ]
  },
  {
   "cell_type": "markdown",
   "id": "93f551ae-4073-4b27-ac23-3b059efd6d0c",
   "metadata": {},
   "source": [
    "### 6.Model Tuning"
   ]
  },
  {
   "cell_type": "code",
   "execution_count": 20,
   "id": "edf27650-1678-43a3-bdb0-55d5f3940884",
   "metadata": {},
   "outputs": [],
   "source": [
    "scoring='recall'\n",
    "models = []\n",
    "models.append(('LR', LogisticRegression()))\n",
    "models.append(('LDA', LinearDiscriminantAnalysis()))\n",
    "models.append(('KNN', KNeighborsClassifier()))\n",
    "models.append(('CART', DecisionTreeClassifier()))"
   ]
  },
  {
   "cell_type": "code",
   "execution_count": 21,
   "id": "f19927aa-cea8-4f2c-87db-05414f965daf",
   "metadata": {},
   "outputs": [
    {
     "name": "stdout",
     "output_type": "stream",
     "text": [
      "LR: 0.678792 (0.080950)\n",
      "LDA: 0.761893 (0.085211)\n",
      "KNN: 0.061597 (0.040902)\n",
      "CART: 0.760102 (0.054627)\n"
     ]
    }
   ],
   "source": [
    "results = []\n",
    "names = []\n",
    "for name, model in models:\n",
    "    kfold = KFold(n_splits=num_folds, random_state=seed,shuffle=True)\n",
    "    cv_results = cross_val_score(model, X_train, Y_train, cv=kfold, scoring=scoring)\n",
    "    results.append(cv_results)\n",
    "    names.append(name)\n",
    "    msg = \"%s: %f (%f)\" % (name, cv_results.mean(), cv_results.std())\n",
    "    print(msg)"
   ]
  },
  {
   "cell_type": "markdown",
   "id": "8efbd8fc-a274-4938-8c8d-6e82fd326bdc",
   "metadata": {},
   "source": [
    "CART seems to have the best recall score, so we choose that model for test evaluation"
   ]
  },
  {
   "cell_type": "code",
   "execution_count": 22,
   "id": "46cafad8-3292-4750-8773-4c409486d696",
   "metadata": {},
   "outputs": [
    {
     "data": {
      "text/html": [
       "<style>#sk-container-id-2 {color: black;background-color: white;}#sk-container-id-2 pre{padding: 0;}#sk-container-id-2 div.sk-toggleable {background-color: white;}#sk-container-id-2 label.sk-toggleable__label {cursor: pointer;display: block;width: 100%;margin-bottom: 0;padding: 0.3em;box-sizing: border-box;text-align: center;}#sk-container-id-2 label.sk-toggleable__label-arrow:before {content: \"▸\";float: left;margin-right: 0.25em;color: #696969;}#sk-container-id-2 label.sk-toggleable__label-arrow:hover:before {color: black;}#sk-container-id-2 div.sk-estimator:hover label.sk-toggleable__label-arrow:before {color: black;}#sk-container-id-2 div.sk-toggleable__content {max-height: 0;max-width: 0;overflow: hidden;text-align: left;background-color: #f0f8ff;}#sk-container-id-2 div.sk-toggleable__content pre {margin: 0.2em;color: black;border-radius: 0.25em;background-color: #f0f8ff;}#sk-container-id-2 input.sk-toggleable__control:checked~div.sk-toggleable__content {max-height: 200px;max-width: 100%;overflow: auto;}#sk-container-id-2 input.sk-toggleable__control:checked~label.sk-toggleable__label-arrow:before {content: \"▾\";}#sk-container-id-2 div.sk-estimator input.sk-toggleable__control:checked~label.sk-toggleable__label {background-color: #d4ebff;}#sk-container-id-2 div.sk-label input.sk-toggleable__control:checked~label.sk-toggleable__label {background-color: #d4ebff;}#sk-container-id-2 input.sk-hidden--visually {border: 0;clip: rect(1px 1px 1px 1px);clip: rect(1px, 1px, 1px, 1px);height: 1px;margin: -1px;overflow: hidden;padding: 0;position: absolute;width: 1px;}#sk-container-id-2 div.sk-estimator {font-family: monospace;background-color: #f0f8ff;border: 1px dotted black;border-radius: 0.25em;box-sizing: border-box;margin-bottom: 0.5em;}#sk-container-id-2 div.sk-estimator:hover {background-color: #d4ebff;}#sk-container-id-2 div.sk-parallel-item::after {content: \"\";width: 100%;border-bottom: 1px solid gray;flex-grow: 1;}#sk-container-id-2 div.sk-label:hover label.sk-toggleable__label {background-color: #d4ebff;}#sk-container-id-2 div.sk-serial::before {content: \"\";position: absolute;border-left: 1px solid gray;box-sizing: border-box;top: 0;bottom: 0;left: 50%;z-index: 0;}#sk-container-id-2 div.sk-serial {display: flex;flex-direction: column;align-items: center;background-color: white;padding-right: 0.2em;padding-left: 0.2em;position: relative;}#sk-container-id-2 div.sk-item {position: relative;z-index: 1;}#sk-container-id-2 div.sk-parallel {display: flex;align-items: stretch;justify-content: center;background-color: white;position: relative;}#sk-container-id-2 div.sk-item::before, #sk-container-id-2 div.sk-parallel-item::before {content: \"\";position: absolute;border-left: 1px solid gray;box-sizing: border-box;top: 0;bottom: 0;left: 50%;z-index: -1;}#sk-container-id-2 div.sk-parallel-item {display: flex;flex-direction: column;z-index: 1;position: relative;background-color: white;}#sk-container-id-2 div.sk-parallel-item:first-child::after {align-self: flex-end;width: 50%;}#sk-container-id-2 div.sk-parallel-item:last-child::after {align-self: flex-start;width: 50%;}#sk-container-id-2 div.sk-parallel-item:only-child::after {width: 0;}#sk-container-id-2 div.sk-dashed-wrapped {border: 1px dashed gray;margin: 0 0.4em 0.5em 0.4em;box-sizing: border-box;padding-bottom: 0.4em;background-color: white;}#sk-container-id-2 div.sk-label label {font-family: monospace;font-weight: bold;display: inline-block;line-height: 1.2em;}#sk-container-id-2 div.sk-label-container {text-align: center;}#sk-container-id-2 div.sk-container {/* jupyter's `normalize.less` sets `[hidden] { display: none; }` but bootstrap.min.css set `[hidden] { display: none !important; }` so we also need the `!important` here to be able to override the default hidden behavior on the sphinx rendered scikit-learn.org. See: https://github.com/scikit-learn/scikit-learn/issues/21755 */display: inline-block !important;position: relative;}#sk-container-id-2 div.sk-text-repr-fallback {display: none;}</style><div id=\"sk-container-id-2\" class=\"sk-top-container\"><div class=\"sk-text-repr-fallback\"><pre>DecisionTreeClassifier()</pre><b>In a Jupyter environment, please rerun this cell to show the HTML representation or trust the notebook. <br />On GitHub, the HTML representation is unable to render, please try loading this page with nbviewer.org.</b></div><div class=\"sk-container\" hidden><div class=\"sk-item\"><div class=\"sk-estimator sk-toggleable\"><input class=\"sk-toggleable__control sk-hidden--visually\" id=\"sk-estimator-id-2\" type=\"checkbox\" checked><label for=\"sk-estimator-id-2\" class=\"sk-toggleable__label sk-toggleable__label-arrow\">DecisionTreeClassifier</label><div class=\"sk-toggleable__content\"><pre>DecisionTreeClassifier()</pre></div></div></div></div></div>"
      ],
      "text/plain": [
       "DecisionTreeClassifier()"
      ]
     },
     "execution_count": 22,
     "metadata": {},
     "output_type": "execute_result"
    }
   ],
   "source": [
    "model = DecisionTreeClassifier()\n",
    "model.fit(X_train, Y_train)"
   ]
  },
  {
   "cell_type": "code",
   "execution_count": 23,
   "id": "9b6b16a0-4bce-478e-bfaf-bfc82b1a82fb",
   "metadata": {},
   "outputs": [
    {
     "name": "stdout",
     "output_type": "stream",
     "text": [
      "0.9991046662687406\n",
      "[[56833    36]\n",
      " [   15    78]]\n",
      "              precision    recall  f1-score   support\n",
      "\n",
      "           0       1.00      1.00      1.00     56869\n",
      "           1       0.68      0.84      0.75        93\n",
      "\n",
      "    accuracy                           1.00     56962\n",
      "   macro avg       0.84      0.92      0.88     56962\n",
      "weighted avg       1.00      1.00      1.00     56962\n",
      "\n"
     ]
    }
   ],
   "source": [
    "# estimate accuracy on validation set\n",
    "#rescaledValidationX = scaler.transform(X_validation)\n",
    "rescaledValidationX = X_val\n",
    "predictions = model.predict(rescaledValidationX)\n",
    "print(accuracy_score(Y_val, predictions))\n",
    "print(confusion_matrix(Y_val, predictions))\n",
    "print(classification_report(Y_val, predictions))"
   ]
  },
  {
   "cell_type": "code",
   "execution_count": 24,
   "id": "6d37e317-0e96-4578-ace2-4114dec5cb7c",
   "metadata": {},
   "outputs": [
    {
     "data": {
      "text/plain": [
       "<AxesSubplot: xlabel='Predicted', ylabel='Actual'>"
      ]
     },
     "execution_count": 24,
     "metadata": {},
     "output_type": "execute_result"
    },
    {
     "data": {
      "image/png": "[encoded data removed]",
      "text/plain": [
       "<Figure size 640x480 with 2 Axes>"
      ]
     },
     "metadata": {},
     "output_type": "display_data"
    }
   ],
   "source": [
    "df_cm = pd.DataFrame(confusion_matrix(Y_val, predictions), columns=np.unique(Y_val), index = np.unique(Y_val))\n",
    "df_cm.index.name = 'Actual'\n",
    "df_cm.columns.name = 'Predicted'\n",
    "sns.heatmap(df_cm, cmap=\"Blues\", annot=True,annot_kws={\"size\": 16})# font size"
   ]
  },
  {
   "cell_type": "markdown",
   "id": "c921cc55-7793-4cb8-835c-b2d7c4bc24c9",
   "metadata": {},
   "source": [
    "Focusing in recall scoring makes an improve in our false negatives rate."
   ]
  },
  {
   "cell_type": "markdown",
   "id": "ab5cd145-1f19-416d-9f6d-b8ca761a33c0",
   "metadata": {},
   "source": [
    "#### 6.1 Balanced dataset\n",
    "\n",
    "Now we are going to tune the model by balancing our training dataset. We already know that there is 492 fraud vs 284315 non fraud, so if we under sample, to have 1:1 ratio, we have a risk to underperform the original accuracy."
   ]
  },
  {
   "cell_type": "code",
   "execution_count": 25,
   "id": "e71e147e-f94c-4730-9aed-4f25476920bf",
   "metadata": {},
   "outputs": [
    {
     "name": "stdout",
     "output_type": "stream",
     "text": [
      "Not fraud    227446\n",
      "Fraud           399\n",
      "Name: Class, dtype: int64\n"
     ]
    }
   ],
   "source": [
    "df = pd.concat([X_train, Y_train], axis=1)\n",
    "class_names = {0:'Not fraud',1:'Fraud'}\n",
    "print(df.Class.value_counts().rename(index=class_names))"
   ]
  },
  {
   "cell_type": "code",
   "execution_count": 26,
   "id": "9180a020-df42-47fe-b028-d3eea9fb100b",
   "metadata": {},
   "outputs": [],
   "source": [
    "df = pd.concat([X_train, Y_train], axis=1)\n",
    "# amount of fraud classes 492 rows.\n",
    "fraud_df = df.loc[df['Class'] == 1]\n",
    "non_fraud_df = df.loc[df['Class'] == 0][:400]\n",
    "\n",
    "normal_distributed_df = pd.concat([fraud_df, non_fraud_df])\n",
    "\n",
    "# Shuffle dataframe rows\n",
    "df_new = normal_distributed_df.sample(frac=1, random_state=seed)\n",
    "# split out validation dataset for the end\n",
    "Y_train_new= df_new[\"Class\"]\n",
    "X_train_new = df_new.loc[:, dataset.columns != 'Class']"
   ]
  },
  {
   "cell_type": "code",
   "execution_count": 27,
   "id": "57a94607-2ae3-4500-8e88-ced718d375c1",
   "metadata": {},
   "outputs": [
    {
     "name": "stdout",
     "output_type": "stream",
     "text": [
      "Distribution of the Classes in the subsample dataset\n",
      "0    0.501\n",
      "1    0.499\n",
      "Name: Class, dtype: float64\n"
     ]
    },
    {
     "data": {
      "image/png": "[encoded data removed]",
      "text/plain": [
       "<Figure size 640x480 with 1 Axes>"
      ]
     },
     "metadata": {},
     "output_type": "display_data"
    }
   ],
   "source": [
    "print('Distribution of the Classes in the subsample dataset')\n",
    "print(df_new['Class'].value_counts()/len(df_new))\n",
    "sns.countplot(x='Class', data=df_new)\n",
    "plt.title('Equally Distributed Classes', fontsize=14)\n",
    "plt.show()"
   ]
  },
  {
   "cell_type": "markdown",
   "id": "8dd4a3dc-6391-4da2-b6e2-5a3a507374a6",
   "metadata": {},
   "source": [
    "Now that we have our dataframe correctly balanced, we can go further with our analysis and data preprocessing.\n",
    "Given the total number of data points are around 1200, we try all the Models including Deep Learning Models. \n",
    "However, given the data is balanced, the metric used here is accuracy, as it focuses on both false positive and false negative. "
   ]
  },
  {
   "cell_type": "code",
   "execution_count": 28,
   "id": "b8d2c22b-9189-4499-a975-a26c55e096bd",
   "metadata": {},
   "outputs": [],
   "source": [
    "# spot check the algorithms\n",
    "models = []\n",
    "models.append(('LR', LogisticRegression()))\n",
    "models.append(('LDA', LinearDiscriminantAnalysis()))\n",
    "models.append(('KNN', KNeighborsClassifier()))\n",
    "models.append(('CART', DecisionTreeClassifier()))\n",
    "models.append(('NB', GaussianNB()))\n",
    "models.append(('SVM', SVC()))\n",
    "#Neural Network\n",
    "models.append(('NN', MLPClassifier()))\n",
    "# #Ensable Models \n",
    "# Boosting methods\n",
    "models.append(('AB', AdaBoostClassifier()))\n",
    "models.append(('GBM', GradientBoostingClassifier()))\n",
    "# Bagging methods\n",
    "models.append(('RF', RandomForestClassifier()))\n",
    "models.append(('ET', ExtraTreesClassifier()))"
   ]
  },
  {
   "cell_type": "code",
   "execution_count": 29,
   "id": "cd0234f2-7fc1-4d25-85a6-d6a12c22c33f",
   "metadata": {},
   "outputs": [
    {
     "name": "stdout",
     "output_type": "stream",
     "text": [
      "LR: 0.933639 (0.021797)\n",
      "LDA: 0.912389 (0.031127)\n",
      "KNN: 0.637089 (0.049706)\n",
      "CART: 0.913703 (0.033682)\n",
      "NB: 0.868592 (0.035441)\n",
      "SVM: 0.538070 (0.065647)\n",
      "NN: 0.575949 (0.095671)\n",
      "AB: 0.918655 (0.021805)\n",
      "GBM: 0.937468 (0.023667)\n",
      "RF: 0.934984 (0.030489)\n",
      "ET: 0.929858 (0.027722)\n"
     ]
    }
   ],
   "source": [
    "results = []\n",
    "names = []\n",
    "scoring='accuracy'\n",
    "for name, model in models:\n",
    "    kfold = KFold(n_splits=num_folds, random_state=seed,shuffle=True)\n",
    "    cv_results = cross_val_score(model, X_train_new, Y_train_new, cv=kfold, scoring=scoring)\n",
    "    results.append(cv_results)\n",
    "    names.append(name)\n",
    "    msg = \"%s: %f (%f)\" % (name, cv_results.mean(), cv_results.std())\n",
    "    print(msg)"
   ]
  },
  {
   "cell_type": "code",
   "execution_count": 30,
   "id": "cbd124b4-cbf2-4ffc-bcfd-e0a94a9271c4",
   "metadata": {},
   "outputs": [
    {
     "data": {
      "image/png": "[encoded data removed]",
      "text/plain": [
       "<Figure size 1200x800 with 1 Axes>"
      ]
     },
     "metadata": {},
     "output_type": "display_data"
    }
   ],
   "source": [
    "# compare algorithms\n",
    "fig = plt.figure()\n",
    "fig.suptitle('Algorithm Comparison')\n",
    "ax = fig.add_subplot(111)\n",
    "plt.boxplot(results)\n",
    "ax.set_xticklabels(names)\n",
    "fig.set_size_inches(12,8)\n",
    "plt.show()"
   ]
  },
  {
   "cell_type": "code",
   "execution_count": 31,
   "id": "98252a32-d976-4091-bca6-69187d83c924",
   "metadata": {},
   "outputs": [
    {
     "data": {
      "text/html": [
       "<style>#sk-container-id-3 {color: black;background-color: white;}#sk-container-id-3 pre{padding: 0;}#sk-container-id-3 div.sk-toggleable {background-color: white;}#sk-container-id-3 label.sk-toggleable__label {cursor: pointer;display: block;width: 100%;margin-bottom: 0;padding: 0.3em;box-sizing: border-box;text-align: center;}#sk-container-id-3 label.sk-toggleable__label-arrow:before {content: \"▸\";float: left;margin-right: 0.25em;color: #696969;}#sk-container-id-3 label.sk-toggleable__label-arrow:hover:before {color: black;}#sk-container-id-3 div.sk-estimator:hover label.sk-toggleable__label-arrow:before {color: black;}#sk-container-id-3 div.sk-toggleable__content {max-height: 0;max-width: 0;overflow: hidden;text-align: left;background-color: #f0f8ff;}#sk-container-id-3 div.sk-toggleable__content pre {margin: 0.2em;color: black;border-radius: 0.25em;background-color: #f0f8ff;}#sk-container-id-3 input.sk-toggleable__control:checked~div.sk-toggleable__content {max-height: 200px;max-width: 100%;overflow: auto;}#sk-container-id-3 input.sk-toggleable__control:checked~label.sk-toggleable__label-arrow:before {content: \"▾\";}#sk-container-id-3 div.sk-estimator input.sk-toggleable__control:checked~label.sk-toggleable__label {background-color: #d4ebff;}#sk-container-id-3 div.sk-label input.sk-toggleable__control:checked~label.sk-toggleable__label {background-color: #d4ebff;}#sk-container-id-3 input.sk-hidden--visually {border: 0;clip: rect(1px 1px 1px 1px);clip: rect(1px, 1px, 1px, 1px);height: 1px;margin: -1px;overflow: hidden;padding: 0;position: absolute;width: 1px;}#sk-container-id-3 div.sk-estimator {font-family: monospace;background-color: #f0f8ff;border: 1px dotted black;border-radius: 0.25em;box-sizing: border-box;margin-bottom: 0.5em;}#sk-container-id-3 div.sk-estimator:hover {background-color: #d4ebff;}#sk-container-id-3 div.sk-parallel-item::after {content: \"\";width: 100%;border-bottom: 1px solid gray;flex-grow: 1;}#sk-container-id-3 div.sk-label:hover label.sk-toggleable__label {background-color: #d4ebff;}#sk-container-id-3 div.sk-serial::before {content: \"\";position: absolute;border-left: 1px solid gray;box-sizing: border-box;top: 0;bottom: 0;left: 50%;z-index: 0;}#sk-container-id-3 div.sk-serial {display: flex;flex-direction: column;align-items: center;background-color: white;padding-right: 0.2em;padding-left: 0.2em;position: relative;}#sk-container-id-3 div.sk-item {position: relative;z-index: 1;}#sk-container-id-3 div.sk-parallel {display: flex;align-items: stretch;justify-content: center;background-color: white;position: relative;}#sk-container-id-3 div.sk-item::before, #sk-container-id-3 div.sk-parallel-item::before {content: \"\";position: absolute;border-left: 1px solid gray;box-sizing: border-box;top: 0;bottom: 0;left: 50%;z-index: -1;}#sk-container-id-3 div.sk-parallel-item {display: flex;flex-direction: column;z-index: 1;position: relative;background-color: white;}#sk-container-id-3 div.sk-parallel-item:first-child::after {align-self: flex-end;width: 50%;}#sk-container-id-3 div.sk-parallel-item:last-child::after {align-self: flex-start;width: 50%;}#sk-container-id-3 div.sk-parallel-item:only-child::after {width: 0;}#sk-container-id-3 div.sk-dashed-wrapped {border: 1px dashed gray;margin: 0 0.4em 0.5em 0.4em;box-sizing: border-box;padding-bottom: 0.4em;background-color: white;}#sk-container-id-3 div.sk-label label {font-family: monospace;font-weight: bold;display: inline-block;line-height: 1.2em;}#sk-container-id-3 div.sk-label-container {text-align: center;}#sk-container-id-3 div.sk-container {/* jupyter's `normalize.less` sets `[hidden] { display: none; }` but bootstrap.min.css set `[hidden] { display: none !important; }` so we also need the `!important` here to be able to override the default hidden behavior on the sphinx rendered scikit-learn.org. See: https://github.com/scikit-learn/scikit-learn/issues/21755 */display: inline-block !important;position: relative;}#sk-container-id-3 div.sk-text-repr-fallback {display: none;}</style><div id=\"sk-container-id-3\" class=\"sk-top-container\"><div class=\"sk-text-repr-fallback\"><pre>DecisionTreeClassifier()</pre><b>In a Jupyter environment, please rerun this cell to show the HTML representation or trust the notebook. <br />On GitHub, the HTML representation is unable to render, please try loading this page with nbviewer.org.</b></div><div class=\"sk-container\" hidden><div class=\"sk-item\"><div class=\"sk-estimator sk-toggleable\"><input class=\"sk-toggleable__control sk-hidden--visually\" id=\"sk-estimator-id-3\" type=\"checkbox\" checked><label for=\"sk-estimator-id-3\" class=\"sk-toggleable__label sk-toggleable__label-arrow\">DecisionTreeClassifier</label><div class=\"sk-toggleable__content\"><pre>DecisionTreeClassifier()</pre></div></div></div></div></div>"
      ],
      "text/plain": [
       "DecisionTreeClassifier()"
      ]
     },
     "execution_count": 31,
     "metadata": {},
     "output_type": "execute_result"
    }
   ],
   "source": [
    "model = DecisionTreeClassifier()\n",
    "model.fit(X_train_new, Y_train_new)"
   ]
  },
  {
   "cell_type": "code",
   "execution_count": 32,
   "id": "7572b1f8-00fd-47df-a2ee-afa3377b3d58",
   "metadata": {},
   "outputs": [
    {
     "name": "stdout",
     "output_type": "stream",
     "text": [
      "0.8880306169024964\n",
      "[[50495  6374]\n",
      " [    4    89]]\n",
      "              precision    recall  f1-score   support\n",
      "\n",
      "           0       1.00      0.89      0.94     56869\n",
      "           1       0.01      0.96      0.03        93\n",
      "\n",
      "    accuracy                           0.89     56962\n",
      "   macro avg       0.51      0.92      0.48     56962\n",
      "weighted avg       1.00      0.89      0.94     56962\n",
      "\n"
     ]
    }
   ],
   "source": [
    "# estimate accuracy on validation set\n",
    "#rescaledValidationX = scaler.transform(X_validation)\n",
    "rescaledValidationX = X_val\n",
    "predictions = model.predict(rescaledValidationX)\n",
    "print(accuracy_score(Y_val, predictions))\n",
    "print(confusion_matrix(Y_val, predictions))\n",
    "print(classification_report(Y_val, predictions))"
   ]
  },
  {
   "cell_type": "code",
   "execution_count": 33,
   "id": "feb80e1c-c0d1-4898-935b-b2ffe72d0452",
   "metadata": {},
   "outputs": [
    {
     "data": {
      "text/plain": [
       "<AxesSubplot: xlabel='Predicted', ylabel='Actual'>"
      ]
     },
     "execution_count": 33,
     "metadata": {},
     "output_type": "execute_result"
    },
    {
     "data": {
      "image/png": "[encoded data removed]",
      "text/plain": [
       "<Figure size 640x480 with 2 Axes>"
      ]
     },
     "metadata": {},
     "output_type": "display_data"
    }
   ],
   "source": [
    "df_cm = pd.DataFrame(confusion_matrix(Y_val, predictions), columns=np.unique(Y_val), index = np.unique(Y_val))\n",
    "df_cm.index.name = 'Actual'\n",
    "df_cm.columns.name = 'Predicted'\n",
    "sns.heatmap(df_cm, cmap=\"Blues\", annot=True,annot_kws={\"size\": 16})# font size"
   ]
  },
  {
   "cell_type": "code",
   "execution_count": 34,
   "id": "65c86a0c-64aa-48b4-a79e-bef918ce3df9",
   "metadata": {},
   "outputs": [
    {
     "data": {
      "text/html": [
       "<style>#sk-container-id-4 {color: black;background-color: white;}#sk-container-id-4 pre{padding: 0;}#sk-container-id-4 div.sk-toggleable {background-color: white;}#sk-container-id-4 label.sk-toggleable__label {cursor: pointer;display: block;width: 100%;margin-bottom: 0;padding: 0.3em;box-sizing: border-box;text-align: center;}#sk-container-id-4 label.sk-toggleable__label-arrow:before {content: \"▸\";float: left;margin-right: 0.25em;color: #696969;}#sk-container-id-4 label.sk-toggleable__label-arrow:hover:before {color: black;}#sk-container-id-4 div.sk-estimator:hover label.sk-toggleable__label-arrow:before {color: black;}#sk-container-id-4 div.sk-toggleable__content {max-height: 0;max-width: 0;overflow: hidden;text-align: left;background-color: #f0f8ff;}#sk-container-id-4 div.sk-toggleable__content pre {margin: 0.2em;color: black;border-radius: 0.25em;background-color: #f0f8ff;}#sk-container-id-4 input.sk-toggleable__control:checked~div.sk-toggleable__content {max-height: 200px;max-width: 100%;overflow: auto;}#sk-container-id-4 input.sk-toggleable__control:checked~label.sk-toggleable__label-arrow:before {content: \"▾\";}#sk-container-id-4 div.sk-estimator input.sk-toggleable__control:checked~label.sk-toggleable__label {background-color: #d4ebff;}#sk-container-id-4 div.sk-label input.sk-toggleable__control:checked~label.sk-toggleable__label {background-color: #d4ebff;}#sk-container-id-4 input.sk-hidden--visually {border: 0;clip: rect(1px 1px 1px 1px);clip: rect(1px, 1px, 1px, 1px);height: 1px;margin: -1px;overflow: hidden;padding: 0;position: absolute;width: 1px;}#sk-container-id-4 div.sk-estimator {font-family: monospace;background-color: #f0f8ff;border: 1px dotted black;border-radius: 0.25em;box-sizing: border-box;margin-bottom: 0.5em;}#sk-container-id-4 div.sk-estimator:hover {background-color: #d4ebff;}#sk-container-id-4 div.sk-parallel-item::after {content: \"\";width: 100%;border-bottom: 1px solid gray;flex-grow: 1;}#sk-container-id-4 div.sk-label:hover label.sk-toggleable__label {background-color: #d4ebff;}#sk-container-id-4 div.sk-serial::before {content: \"\";position: absolute;border-left: 1px solid gray;box-sizing: border-box;top: 0;bottom: 0;left: 50%;z-index: 0;}#sk-container-id-4 div.sk-serial {display: flex;flex-direction: column;align-items: center;background-color: white;padding-right: 0.2em;padding-left: 0.2em;position: relative;}#sk-container-id-4 div.sk-item {position: relative;z-index: 1;}#sk-container-id-4 div.sk-parallel {display: flex;align-items: stretch;justify-content: center;background-color: white;position: relative;}#sk-container-id-4 div.sk-item::before, #sk-container-id-4 div.sk-parallel-item::before {content: \"\";position: absolute;border-left: 1px solid gray;box-sizing: border-box;top: 0;bottom: 0;left: 50%;z-index: -1;}#sk-container-id-4 div.sk-parallel-item {display: flex;flex-direction: column;z-index: 1;position: relative;background-color: white;}#sk-container-id-4 div.sk-parallel-item:first-child::after {align-self: flex-end;width: 50%;}#sk-container-id-4 div.sk-parallel-item:last-child::after {align-self: flex-start;width: 50%;}#sk-container-id-4 div.sk-parallel-item:only-child::after {width: 0;}#sk-container-id-4 div.sk-dashed-wrapped {border: 1px dashed gray;margin: 0 0.4em 0.5em 0.4em;box-sizing: border-box;padding-bottom: 0.4em;background-color: white;}#sk-container-id-4 div.sk-label label {font-family: monospace;font-weight: bold;display: inline-block;line-height: 1.2em;}#sk-container-id-4 div.sk-label-container {text-align: center;}#sk-container-id-4 div.sk-container {/* jupyter's `normalize.less` sets `[hidden] { display: none; }` but bootstrap.min.css set `[hidden] { display: none !important; }` so we also need the `!important` here to be able to override the default hidden behavior on the sphinx rendered scikit-learn.org. See: https://github.com/scikit-learn/scikit-learn/issues/21755 */display: inline-block !important;position: relative;}#sk-container-id-4 div.sk-text-repr-fallback {display: none;}</style><div id=\"sk-container-id-4\" class=\"sk-top-container\"><div class=\"sk-text-repr-fallback\"><pre>GradientBoostingClassifier(n_estimators=1000)</pre><b>In a Jupyter environment, please rerun this cell to show the HTML representation or trust the notebook. <br />On GitHub, the HTML representation is unable to render, please try loading this page with nbviewer.org.</b></div><div class=\"sk-container\" hidden><div class=\"sk-item\"><div class=\"sk-estimator sk-toggleable\"><input class=\"sk-toggleable__control sk-hidden--visually\" id=\"sk-estimator-id-4\" type=\"checkbox\" checked><label for=\"sk-estimator-id-4\" class=\"sk-toggleable__label sk-toggleable__label-arrow\">GradientBoostingClassifier</label><div class=\"sk-toggleable__content\"><pre>GradientBoostingClassifier(n_estimators=1000)</pre></div></div></div></div></div>"
      ],
      "text/plain": [
       "GradientBoostingClassifier(n_estimators=1000)"
      ]
     },
     "execution_count": 34,
     "metadata": {},
     "output_type": "execute_result"
    }
   ],
   "source": [
    "# prepare model\n",
    "model = GradientBoostingClassifier(max_depth= 3, n_estimators = 1000)\n",
    "model.fit(X_train_new, Y_train_new)"
   ]
  },
  {
   "cell_type": "code",
   "execution_count": 35,
   "id": "c08c26f3-c2f4-4f43-9f41-7d0ba6c04a7b",
   "metadata": {},
   "outputs": [
    {
     "name": "stdout",
     "output_type": "stream",
     "text": [
      "0.9513008672448299\n",
      "[[54100  2769]\n",
      " [    5    88]]\n",
      "              precision    recall  f1-score   support\n",
      "\n",
      "           0       1.00      0.95      0.98     56869\n",
      "           1       0.03      0.95      0.06        93\n",
      "\n",
      "    accuracy                           0.95     56962\n",
      "   macro avg       0.52      0.95      0.52     56962\n",
      "weighted avg       1.00      0.95      0.97     56962\n",
      "\n"
     ]
    }
   ],
   "source": [
    "# estimate accuracy on Original validation set\n",
    "predictions = model.predict(X_val)\n",
    "print(accuracy_score(Y_val, predictions))\n",
    "print(confusion_matrix(Y_val, predictions))\n",
    "print(classification_report(Y_val, predictions))"
   ]
  },
  {
   "cell_type": "code",
   "execution_count": 36,
   "id": "48b26852-096e-431d-a7c8-ae94873c42d3",
   "metadata": {},
   "outputs": [
    {
     "data": {
      "text/plain": [
       "<AxesSubplot: xlabel='Predicted', ylabel='Actual'>"
      ]
     },
     "execution_count": 36,
     "metadata": {},
     "output_type": "execute_result"
    },
    {
     "data": {
      "image/png": "[encoded data removed]",
      "text/plain": [
       "<Figure size 640x480 with 2 Axes>"
      ]
     },
     "metadata": {},
     "output_type": "display_data"
    }
   ],
   "source": [
    "df_cm = pd.DataFrame(confusion_matrix(Y_val, predictions), columns=np.unique(Y_val), index = np.unique(Y_val))\n",
    "df_cm.index.name = 'Actual'\n",
    "df_cm.columns.name = 'Predicted'\n",
    "sns.heatmap(df_cm, cmap=\"Blues\", annot=True,annot_kws={\"size\": 16})# font size"
   ]
  },
  {
   "cell_type": "code",
   "execution_count": 37,
   "id": "23bb85c4-2986-451c-bd60-03c9a569a947",
   "metadata": {},
   "outputs": [
    {
     "data": {
      "text/html": [
       "<style>#sk-container-id-5 {color: black;background-color: white;}#sk-container-id-5 pre{padding: 0;}#sk-container-id-5 div.sk-toggleable {background-color: white;}#sk-container-id-5 label.sk-toggleable__label {cursor: pointer;display: block;width: 100%;margin-bottom: 0;padding: 0.3em;box-sizing: border-box;text-align: center;}#sk-container-id-5 label.sk-toggleable__label-arrow:before {content: \"▸\";float: left;margin-right: 0.25em;color: #696969;}#sk-container-id-5 label.sk-toggleable__label-arrow:hover:before {color: black;}#sk-container-id-5 div.sk-estimator:hover label.sk-toggleable__label-arrow:before {color: black;}#sk-container-id-5 div.sk-toggleable__content {max-height: 0;max-width: 0;overflow: hidden;text-align: left;background-color: #f0f8ff;}#sk-container-id-5 div.sk-toggleable__content pre {margin: 0.2em;color: black;border-radius: 0.25em;background-color: #f0f8ff;}#sk-container-id-5 input.sk-toggleable__control:checked~div.sk-toggleable__content {max-height: 200px;max-width: 100%;overflow: auto;}#sk-container-id-5 input.sk-toggleable__control:checked~label.sk-toggleable__label-arrow:before {content: \"▾\";}#sk-container-id-5 div.sk-estimator input.sk-toggleable__control:checked~label.sk-toggleable__label {background-color: #d4ebff;}#sk-container-id-5 div.sk-label input.sk-toggleable__control:checked~label.sk-toggleable__label {background-color: #d4ebff;}#sk-container-id-5 input.sk-hidden--visually {border: 0;clip: rect(1px 1px 1px 1px);clip: rect(1px, 1px, 1px, 1px);height: 1px;margin: -1px;overflow: hidden;padding: 0;position: absolute;width: 1px;}#sk-container-id-5 div.sk-estimator {font-family: monospace;background-color: #f0f8ff;border: 1px dotted black;border-radius: 0.25em;box-sizing: border-box;margin-bottom: 0.5em;}#sk-container-id-5 div.sk-estimator:hover {background-color: #d4ebff;}#sk-container-id-5 div.sk-parallel-item::after {content: \"\";width: 100%;border-bottom: 1px solid gray;flex-grow: 1;}#sk-container-id-5 div.sk-label:hover label.sk-toggleable__label {background-color: #d4ebff;}#sk-container-id-5 div.sk-serial::before {content: \"\";position: absolute;border-left: 1px solid gray;box-sizing: border-box;top: 0;bottom: 0;left: 50%;z-index: 0;}#sk-container-id-5 div.sk-serial {display: flex;flex-direction: column;align-items: center;background-color: white;padding-right: 0.2em;padding-left: 0.2em;position: relative;}#sk-container-id-5 div.sk-item {position: relative;z-index: 1;}#sk-container-id-5 div.sk-parallel {display: flex;align-items: stretch;justify-content: center;background-color: white;position: relative;}#sk-container-id-5 div.sk-item::before, #sk-container-id-5 div.sk-parallel-item::before {content: \"\";position: absolute;border-left: 1px solid gray;box-sizing: border-box;top: 0;bottom: 0;left: 50%;z-index: -1;}#sk-container-id-5 div.sk-parallel-item {display: flex;flex-direction: column;z-index: 1;position: relative;background-color: white;}#sk-container-id-5 div.sk-parallel-item:first-child::after {align-self: flex-end;width: 50%;}#sk-container-id-5 div.sk-parallel-item:last-child::after {align-self: flex-start;width: 50%;}#sk-container-id-5 div.sk-parallel-item:only-child::after {width: 0;}#sk-container-id-5 div.sk-dashed-wrapped {border: 1px dashed gray;margin: 0 0.4em 0.5em 0.4em;box-sizing: border-box;padding-bottom: 0.4em;background-color: white;}#sk-container-id-5 div.sk-label label {font-family: monospace;font-weight: bold;display: inline-block;line-height: 1.2em;}#sk-container-id-5 div.sk-label-container {text-align: center;}#sk-container-id-5 div.sk-container {/* jupyter's `normalize.less` sets `[hidden] { display: none; }` but bootstrap.min.css set `[hidden] { display: none !important; }` so we also need the `!important` here to be able to override the default hidden behavior on the sphinx rendered scikit-learn.org. See: https://github.com/scikit-learn/scikit-learn/issues/21755 */display: inline-block !important;position: relative;}#sk-container-id-5 div.sk-text-repr-fallback {display: none;}</style><div id=\"sk-container-id-5\" class=\"sk-top-container\"><div class=\"sk-text-repr-fallback\"><pre>RandomForestClassifier()</pre><b>In a Jupyter environment, please rerun this cell to show the HTML representation or trust the notebook. <br />On GitHub, the HTML representation is unable to render, please try loading this page with nbviewer.org.</b></div><div class=\"sk-container\" hidden><div class=\"sk-item\"><div class=\"sk-estimator sk-toggleable\"><input class=\"sk-toggleable__control sk-hidden--visually\" id=\"sk-estimator-id-5\" type=\"checkbox\" checked><label for=\"sk-estimator-id-5\" class=\"sk-toggleable__label sk-toggleable__label-arrow\">RandomForestClassifier</label><div class=\"sk-toggleable__content\"><pre>RandomForestClassifier()</pre></div></div></div></div></div>"
      ],
      "text/plain": [
       "RandomForestClassifier()"
      ]
     },
     "execution_count": 37,
     "metadata": {},
     "output_type": "execute_result"
    }
   ],
   "source": [
    "model=RandomForestClassifier()\n",
    "model.fit(X_train_new,Y_train_new)"
   ]
  },
  {
   "cell_type": "code",
   "execution_count": 38,
   "id": "fe24f3ac-5fbf-407a-97a2-5c4a63585b73",
   "metadata": {},
   "outputs": [
    {
     "name": "stdout",
     "output_type": "stream",
     "text": [
      "0.965749095888487\n",
      "[[54924  1945]\n",
      " [    6    87]]\n",
      "              precision    recall  f1-score   support\n",
      "\n",
      "           0       1.00      0.97      0.98     56869\n",
      "           1       0.04      0.94      0.08        93\n",
      "\n",
      "    accuracy                           0.97     56962\n",
      "   macro avg       0.52      0.95      0.53     56962\n",
      "weighted avg       1.00      0.97      0.98     56962\n",
      "\n"
     ]
    }
   ],
   "source": [
    "# estimate accuracy on Original validation set\n",
    "predictions = model.predict(X_val)\n",
    "print(accuracy_score(Y_val, predictions))\n",
    "print(confusion_matrix(Y_val, predictions))\n",
    "print(classification_report(Y_val, predictions))"
   ]
  },
  {
   "cell_type": "code",
   "execution_count": 39,
   "id": "760d836d-4fa1-414d-ba10-63d58d80ac6d",
   "metadata": {},
   "outputs": [
    {
     "data": {
      "text/plain": [
       "<AxesSubplot: xlabel='Predicted', ylabel='Actual'>"
      ]
     },
     "execution_count": 39,
     "metadata": {},
     "output_type": "execute_result"
    },
    {
     "data": {
      "image/png": "[encoded data removed]",
      "text/plain": [
       "<Figure size 640x480 with 2 Axes>"
      ]
     },
     "metadata": {},
     "output_type": "display_data"
    }
   ],
   "source": [
    "df_cm = pd.DataFrame(confusion_matrix(Y_val, predictions), columns=np.unique(Y_val), index = np.unique(Y_val))\n",
    "df_cm.index.name = 'Actual'\n",
    "df_cm.columns.name = 'Predicted'\n",
    "sns.heatmap(df_cm, cmap=\"Blues\", annot=True,annot_kws={\"size\": 16})# font size"
   ]
  },
  {
   "cell_type": "markdown",
   "id": "8f64a737-b897-49eb-888f-25643253b8f3",
   "metadata": {},
   "source": [
    "Vamos a proceder de forma paralela normalizando los datos para evitar long tail distributions"
   ]
  },
  {
   "cell_type": "code",
   "execution_count": 40,
   "id": "7dac79f4-f7df-447d-acfc-014a7e235dd2",
   "metadata": {},
   "outputs": [],
   "source": [
    "# split out validation dataset for the end\n",
    "Y= dataset[\"Class\"]\n",
    "X = dataset.loc[:, dataset.columns != 'Class']"
   ]
  },
  {
   "cell_type": "code",
   "execution_count": 41,
   "id": "9619f6c8-e0e9-4bd2-bfd4-fbec1133b124",
   "metadata": {},
   "outputs": [],
   "source": [
    "X_norm = np.arcsinh(X)"
   ]
  },
  {
   "cell_type": "code",
   "execution_count": 42,
   "id": "4fd09860-e3c0-412c-9669-049ac2eb8672",
   "metadata": {},
   "outputs": [
    {
     "data": {
      "image/png": "[encoded data removed]",
      "text/plain": [
       "<Figure size 1200x1200 with 30 Axes>"
      ]
     },
     "metadata": {},
     "output_type": "display_data"
    }
   ],
   "source": [
    "X_norm.hist(sharex=False, sharey=False, xlabelsize=1, ylabelsize=1, figsize=(12,12))\n",
    "plt.show()"
   ]
  },
  {
   "cell_type": "code",
   "execution_count": 43,
   "id": "cc13bf1b-87f5-4209-b660-a25fae306676",
   "metadata": {},
   "outputs": [],
   "source": [
    "validation_size = 0.2\n",
    "\n",
    "\n",
    "X_train, X_val, Y_train, Y_val = train_test_split(X_norm, Y, test_size=validation_size, random_state=seed)\n",
    "\n",
    "scoring = 'recall'\n",
    "\n",
    "# X_train and Y_train: Training data (used for model training)\n",
    "# X_val and Y_val: Validation data (used for model evaluation and hyperparameter tuning, if needed)"
   ]
  },
  {
   "cell_type": "code",
   "execution_count": 44,
   "id": "937396c0-dca8-4929-839f-8cce55db0bba",
   "metadata": {},
   "outputs": [],
   "source": [
    "models = []\n",
    "models.append(('LR', LogisticRegression()))\n",
    "models.append(('LDA', LinearDiscriminantAnalysis()))\n",
    "models.append(('KNN', KNeighborsClassifier()))\n",
    "models.append(('CART', DecisionTreeClassifier()))"
   ]
  },
  {
   "cell_type": "code",
   "execution_count": 45,
   "id": "e03a50fc-d9b9-4cad-a51a-3c436acad79c",
   "metadata": {},
   "outputs": [
    {
     "name": "stdout",
     "output_type": "stream",
     "text": [
      "LR: 0.724781 (0.075960)\n",
      "LDA: 0.801585 (0.039265)\n",
      "KNN: 0.785930 (0.043831)\n",
      "CART: 0.777163 (0.042969)\n"
     ]
    }
   ],
   "source": [
    "results = []\n",
    "names = []\n",
    "for name, model in models:\n",
    "    kfold = KFold(n_splits=10, random_state=seed,shuffle=True)\n",
    "    cv_results = cross_val_score(model, X_train, Y_train, cv=kfold, scoring=scoring)\n",
    "    results.append(cv_results)\n",
    "    names.append(name)\n",
    "    msg = \"%s: %f (%f)\" % (name, cv_results.mean(), cv_results.std())\n",
    "    print(msg)"
   ]
  },
  {
   "cell_type": "code",
   "execution_count": 46,
   "id": "bd318e87-58c9-4f4b-a37a-d0dc869e21aa",
   "metadata": {},
   "outputs": [
    {
     "data": {
      "text/html": [
       "<style>#sk-container-id-6 {color: black;background-color: white;}#sk-container-id-6 pre{padding: 0;}#sk-container-id-6 div.sk-toggleable {background-color: white;}#sk-container-id-6 label.sk-toggleable__label {cursor: pointer;display: block;width: 100%;margin-bottom: 0;padding: 0.3em;box-sizing: border-box;text-align: center;}#sk-container-id-6 label.sk-toggleable__label-arrow:before {content: \"▸\";float: left;margin-right: 0.25em;color: #696969;}#sk-container-id-6 label.sk-toggleable__label-arrow:hover:before {color: black;}#sk-container-id-6 div.sk-estimator:hover label.sk-toggleable__label-arrow:before {color: black;}#sk-container-id-6 div.sk-toggleable__content {max-height: 0;max-width: 0;overflow: hidden;text-align: left;background-color: #f0f8ff;}#sk-container-id-6 div.sk-toggleable__content pre {margin: 0.2em;color: black;border-radius: 0.25em;background-color: #f0f8ff;}#sk-container-id-6 input.sk-toggleable__control:checked~div.sk-toggleable__content {max-height: 200px;max-width: 100%;overflow: auto;}#sk-container-id-6 input.sk-toggleable__control:checked~label.sk-toggleable__label-arrow:before {content: \"▾\";}#sk-container-id-6 div.sk-estimator input.sk-toggleable__control:checked~label.sk-toggleable__label {background-color: #d4ebff;}#sk-container-id-6 div.sk-label input.sk-toggleable__control:checked~label.sk-toggleable__label {background-color: #d4ebff;}#sk-container-id-6 input.sk-hidden--visually {border: 0;clip: rect(1px 1px 1px 1px);clip: rect(1px, 1px, 1px, 1px);height: 1px;margin: -1px;overflow: hidden;padding: 0;position: absolute;width: 1px;}#sk-container-id-6 div.sk-estimator {font-family: monospace;background-color: #f0f8ff;border: 1px dotted black;border-radius: 0.25em;box-sizing: border-box;margin-bottom: 0.5em;}#sk-container-id-6 div.sk-estimator:hover {background-color: #d4ebff;}#sk-container-id-6 div.sk-parallel-item::after {content: \"\";width: 100%;border-bottom: 1px solid gray;flex-grow: 1;}#sk-container-id-6 div.sk-label:hover label.sk-toggleable__label {background-color: #d4ebff;}#sk-container-id-6 div.sk-serial::before {content: \"\";position: absolute;border-left: 1px solid gray;box-sizing: border-box;top: 0;bottom: 0;left: 50%;z-index: 0;}#sk-container-id-6 div.sk-serial {display: flex;flex-direction: column;align-items: center;background-color: white;padding-right: 0.2em;padding-left: 0.2em;position: relative;}#sk-container-id-6 div.sk-item {position: relative;z-index: 1;}#sk-container-id-6 div.sk-parallel {display: flex;align-items: stretch;justify-content: center;background-color: white;position: relative;}#sk-container-id-6 div.sk-item::before, #sk-container-id-6 div.sk-parallel-item::before {content: \"\";position: absolute;border-left: 1px solid gray;box-sizing: border-box;top: 0;bottom: 0;left: 50%;z-index: -1;}#sk-container-id-6 div.sk-parallel-item {display: flex;flex-direction: column;z-index: 1;position: relative;background-color: white;}#sk-container-id-6 div.sk-parallel-item:first-child::after {align-self: flex-end;width: 50%;}#sk-container-id-6 div.sk-parallel-item:last-child::after {align-self: flex-start;width: 50%;}#sk-container-id-6 div.sk-parallel-item:only-child::after {width: 0;}#sk-container-id-6 div.sk-dashed-wrapped {border: 1px dashed gray;margin: 0 0.4em 0.5em 0.4em;box-sizing: border-box;padding-bottom: 0.4em;background-color: white;}#sk-container-id-6 div.sk-label label {font-family: monospace;font-weight: bold;display: inline-block;line-height: 1.2em;}#sk-container-id-6 div.sk-label-container {text-align: center;}#sk-container-id-6 div.sk-container {/* jupyter's `normalize.less` sets `[hidden] { display: none; }` but bootstrap.min.css set `[hidden] { display: none !important; }` so we also need the `!important` here to be able to override the default hidden behavior on the sphinx rendered scikit-learn.org. See: https://github.com/scikit-learn/scikit-learn/issues/21755 */display: inline-block !important;position: relative;}#sk-container-id-6 div.sk-text-repr-fallback {display: none;}</style><div id=\"sk-container-id-6\" class=\"sk-top-container\"><div class=\"sk-text-repr-fallback\"><pre>DecisionTreeClassifier()</pre><b>In a Jupyter environment, please rerun this cell to show the HTML representation or trust the notebook. <br />On GitHub, the HTML representation is unable to render, please try loading this page with nbviewer.org.</b></div><div class=\"sk-container\" hidden><div class=\"sk-item\"><div class=\"sk-estimator sk-toggleable\"><input class=\"sk-toggleable__control sk-hidden--visually\" id=\"sk-estimator-id-6\" type=\"checkbox\" checked><label for=\"sk-estimator-id-6\" class=\"sk-toggleable__label sk-toggleable__label-arrow\">DecisionTreeClassifier</label><div class=\"sk-toggleable__content\"><pre>DecisionTreeClassifier()</pre></div></div></div></div></div>"
      ],
      "text/plain": [
       "DecisionTreeClassifier()"
      ]
     },
     "execution_count": 46,
     "metadata": {},
     "output_type": "execute_result"
    }
   ],
   "source": [
    "model = DecisionTreeClassifier()\n",
    "model.fit(X_train, Y_train)"
   ]
  },
  {
   "cell_type": "code",
   "execution_count": 47,
   "id": "11b99c11-4a7b-4e52-9278-5331a357fd92",
   "metadata": {},
   "outputs": [
    {
     "name": "stdout",
     "output_type": "stream",
     "text": [
      "0.9992977774656788\n",
      "[[56842    14]\n",
      " [   26    80]]\n",
      "              precision    recall  f1-score   support\n",
      "\n",
      "           0       1.00      1.00      1.00     56856\n",
      "           1       0.85      0.75      0.80       106\n",
      "\n",
      "    accuracy                           1.00     56962\n",
      "   macro avg       0.93      0.88      0.90     56962\n",
      "weighted avg       1.00      1.00      1.00     56962\n",
      "\n"
     ]
    }
   ],
   "source": [
    "# estimate accuracy on validation set\n",
    "#rescaledValidationX = scaler.transform(X_validation)\n",
    "rescaledValidationX = X_val\n",
    "predictions = model.predict(rescaledValidationX)\n",
    "print(accuracy_score(Y_val, predictions))\n",
    "print(confusion_matrix(Y_val, predictions))\n",
    "print(classification_report(Y_val, predictions))"
   ]
  },
  {
   "cell_type": "code",
   "execution_count": 48,
   "id": "a5d12564-c123-48d8-afe0-a0c18567d387",
   "metadata": {},
   "outputs": [
    {
     "data": {
      "text/plain": [
       "<AxesSubplot: xlabel='Predicted', ylabel='Actual'>"
      ]
     },
     "execution_count": 48,
     "metadata": {},
     "output_type": "execute_result"
    },
    {
     "data": {
      "image/png": "[encoded data removed]",
      "text/plain": [
       "<Figure size 640x480 with 2 Axes>"
      ]
     },
     "metadata": {},
     "output_type": "display_data"
    }
   ],
   "source": [
    "df_cm = pd.DataFrame(confusion_matrix(Y_val, predictions), columns=np.unique(Y_val), index = np.unique(Y_val))\n",
    "df_cm.index.name = 'Actual'\n",
    "df_cm.columns.name = 'Predicted'\n",
    "sns.heatmap(df_cm, cmap=\"Blues\", annot=True,annot_kws={\"size\": 16})# font size"
   ]
  },
  {
   "cell_type": "code",
   "execution_count": 49,
   "id": "b2cb0e2d-916f-442e-9d5a-45390bdc26d6",
   "metadata": {},
   "outputs": [
    {
     "name": "stdout",
     "output_type": "stream",
     "text": [
      "Not fraud    227459\n",
      "Fraud           386\n",
      "Name: Class, dtype: int64\n"
     ]
    }
   ],
   "source": [
    "df = pd.concat([X_train, Y_train], axis=1)\n",
    "class_names = {0:'Not fraud',1:'Fraud'}\n",
    "print(df.Class.value_counts().rename(index=class_names))"
   ]
  },
  {
   "cell_type": "code",
   "execution_count": 50,
   "id": "e6819a52-60ea-43a7-af65-8d0bc984141e",
   "metadata": {},
   "outputs": [],
   "source": [
    "df = pd.concat([X_train, Y_train], axis=1)\n",
    "# amount of fraud classes 492 rows.\n",
    "fraud_df = df.loc[df['Class'] == 1]\n",
    "non_fraud_df = df.loc[df['Class'] == 0][:392]\n",
    "\n",
    "normal_distributed_df = pd.concat([fraud_df, non_fraud_df])\n",
    "\n",
    "# Shuffle dataframe rows\n",
    "df_new = normal_distributed_df.sample(frac=1, random_state=seed)\n",
    "# split out validation dataset for the end\n",
    "Y_train_new= df_new[\"Class\"]\n",
    "X_train_new = df_new.loc[:, dataset.columns != 'Class']"
   ]
  },
  {
   "cell_type": "code",
   "execution_count": 51,
   "id": "1f8253ff-23d7-400b-9be7-e602a749dd5e",
   "metadata": {},
   "outputs": [
    {
     "data": {
      "text/html": [
       "<div>\n",
       "<style scoped>\n",
       "    .dataframe tbody tr th:only-of-type {\n",
       "        vertical-align: middle;\n",
       "    }\n",
       "\n",
       "    .dataframe tbody tr th {\n",
       "        vertical-align: top;\n",
       "    }\n",
       "\n",
       "    .dataframe thead th {\n",
       "        text-align: right;\n",
       "    }\n",
       "</style>\n",
       "<table border=\"1\" class=\"dataframe\">\n",
       "  <thead>\n",
       "    <tr style=\"text-align: right;\">\n",
       "      <th></th>\n",
       "      <th>Time</th>\n",
       "      <th>V1</th>\n",
       "      <th>V2</th>\n",
       "      <th>V3</th>\n",
       "      <th>V4</th>\n",
       "      <th>V5</th>\n",
       "      <th>V6</th>\n",
       "      <th>V7</th>\n",
       "      <th>V8</th>\n",
       "      <th>V9</th>\n",
       "      <th>...</th>\n",
       "      <th>V20</th>\n",
       "      <th>V21</th>\n",
       "      <th>V22</th>\n",
       "      <th>V23</th>\n",
       "      <th>V24</th>\n",
       "      <th>V25</th>\n",
       "      <th>V26</th>\n",
       "      <th>V27</th>\n",
       "      <th>V28</th>\n",
       "      <th>Amount</th>\n",
       "    </tr>\n",
       "  </thead>\n",
       "  <tbody>\n",
       "    <tr>\n",
       "      <th>count</th>\n",
       "      <td>778.000</td>\n",
       "      <td>778.000</td>\n",
       "      <td>778.000</td>\n",
       "      <td>778.000</td>\n",
       "      <td>778.000</td>\n",
       "      <td>778.000</td>\n",
       "      <td>778.000</td>\n",
       "      <td>778.000</td>\n",
       "      <td>778.000</td>\n",
       "      <td>778.000</td>\n",
       "      <td>...</td>\n",
       "      <td>778.000</td>\n",
       "      <td>778.000</td>\n",
       "      <td>778.000</td>\n",
       "      <td>778.000</td>\n",
       "      <td>778.000</td>\n",
       "      <td>778.000</td>\n",
       "      <td>778.000</td>\n",
       "      <td>778.000</td>\n",
       "      <td>778.000</td>\n",
       "      <td>778.000</td>\n",
       "    </tr>\n",
       "    <tr>\n",
       "      <th>mean</th>\n",
       "      <td>11.830</td>\n",
       "      <td>-0.669</td>\n",
       "      <td>0.822</td>\n",
       "      <td>-1.030</td>\n",
       "      <td>0.993</td>\n",
       "      <td>-0.520</td>\n",
       "      <td>-0.505</td>\n",
       "      <td>-0.864</td>\n",
       "      <td>0.258</td>\n",
       "      <td>-0.680</td>\n",
       "      <td>...</td>\n",
       "      <td>0.138</td>\n",
       "      <td>0.256</td>\n",
       "      <td>0.008</td>\n",
       "      <td>-0.005</td>\n",
       "      <td>-0.026</td>\n",
       "      <td>0.036</td>\n",
       "      <td>0.024</td>\n",
       "      <td>0.125</td>\n",
       "      <td>0.050</td>\n",
       "      <td>3.447</td>\n",
       "    </tr>\n",
       "    <tr>\n",
       "      <th>std</th>\n",
       "      <td>0.809</td>\n",
       "      <td>1.527</td>\n",
       "      <td>1.296</td>\n",
       "      <td>1.567</td>\n",
       "      <td>1.332</td>\n",
       "      <td>1.387</td>\n",
       "      <td>1.032</td>\n",
       "      <td>1.407</td>\n",
       "      <td>1.230</td>\n",
       "      <td>1.131</td>\n",
       "      <td>...</td>\n",
       "      <td>0.646</td>\n",
       "      <td>0.864</td>\n",
       "      <td>0.741</td>\n",
       "      <td>0.556</td>\n",
       "      <td>0.505</td>\n",
       "      <td>0.537</td>\n",
       "      <td>0.432</td>\n",
       "      <td>0.638</td>\n",
       "      <td>0.352</td>\n",
       "      <td>2.083</td>\n",
       "    </tr>\n",
       "    <tr>\n",
       "      <th>min</th>\n",
       "      <td>6.850</td>\n",
       "      <td>-4.113</td>\n",
       "      <td>-2.825</td>\n",
       "      <td>-4.131</td>\n",
       "      <td>-2.108</td>\n",
       "      <td>-3.789</td>\n",
       "      <td>-2.556</td>\n",
       "      <td>-4.467</td>\n",
       "      <td>-4.408</td>\n",
       "      <td>-3.292</td>\n",
       "      <td>...</td>\n",
       "      <td>-2.125</td>\n",
       "      <td>-3.820</td>\n",
       "      <td>-2.881</td>\n",
       "      <td>-3.466</td>\n",
       "      <td>-1.412</td>\n",
       "      <td>-1.976</td>\n",
       "      <td>-0.985</td>\n",
       "      <td>-2.681</td>\n",
       "      <td>-1.349</td>\n",
       "      <td>0.000</td>\n",
       "    </tr>\n",
       "    <tr>\n",
       "      <th>25%</th>\n",
       "      <td>11.422</td>\n",
       "      <td>-1.762</td>\n",
       "      <td>-0.093</td>\n",
       "      <td>-2.335</td>\n",
       "      <td>-0.021</td>\n",
       "      <td>-1.352</td>\n",
       "      <td>-1.271</td>\n",
       "      <td>-1.861</td>\n",
       "      <td>-0.227</td>\n",
       "      <td>-1.608</td>\n",
       "      <td>...</td>\n",
       "      <td>-0.191</td>\n",
       "      <td>-0.163</td>\n",
       "      <td>-0.540</td>\n",
       "      <td>-0.250</td>\n",
       "      <td>-0.380</td>\n",
       "      <td>-0.292</td>\n",
       "      <td>-0.273</td>\n",
       "      <td>-0.054</td>\n",
       "      <td>-0.052</td>\n",
       "      <td>1.346</td>\n",
       "    </tr>\n",
       "    <tr>\n",
       "      <th>50%</th>\n",
       "      <td>11.949</td>\n",
       "      <td>-0.700</td>\n",
       "      <td>0.871</td>\n",
       "      <td>-1.109</td>\n",
       "      <td>1.117</td>\n",
       "      <td>-0.430</td>\n",
       "      <td>-0.606</td>\n",
       "      <td>-0.667</td>\n",
       "      <td>0.167</td>\n",
       "      <td>-0.654</td>\n",
       "      <td>...</td>\n",
       "      <td>0.013</td>\n",
       "      <td>0.163</td>\n",
       "      <td>0.034</td>\n",
       "      <td>-0.033</td>\n",
       "      <td>0.019</td>\n",
       "      <td>0.050</td>\n",
       "      <td>-0.014</td>\n",
       "      <td>0.060</td>\n",
       "      <td>0.036</td>\n",
       "      <td>3.402</td>\n",
       "    </tr>\n",
       "    <tr>\n",
       "      <th>75%</th>\n",
       "      <td>12.495</td>\n",
       "      <td>0.909</td>\n",
       "      <td>1.815</td>\n",
       "      <td>0.358</td>\n",
       "      <td>2.165</td>\n",
       "      <td>0.493</td>\n",
       "      <td>0.074</td>\n",
       "      <td>0.266</td>\n",
       "      <td>0.782</td>\n",
       "      <td>0.204</td>\n",
       "      <td>...</td>\n",
       "      <td>0.467</td>\n",
       "      <td>0.635</td>\n",
       "      <td>0.566</td>\n",
       "      <td>0.181</td>\n",
       "      <td>0.383</td>\n",
       "      <td>0.380</td>\n",
       "      <td>0.322</td>\n",
       "      <td>0.441</td>\n",
       "      <td>0.217</td>\n",
       "      <td>5.267</td>\n",
       "    </tr>\n",
       "    <tr>\n",
       "      <th>max</th>\n",
       "      <td>12.753</td>\n",
       "      <td>1.592</td>\n",
       "      <td>3.787</td>\n",
       "      <td>2.027</td>\n",
       "      <td>3.189</td>\n",
       "      <td>3.102</td>\n",
       "      <td>2.567</td>\n",
       "      <td>2.043</td>\n",
       "      <td>3.690</td>\n",
       "      <td>2.065</td>\n",
       "      <td>...</td>\n",
       "      <td>3.098</td>\n",
       "      <td>3.997</td>\n",
       "      <td>2.820</td>\n",
       "      <td>2.400</td>\n",
       "      <td>0.994</td>\n",
       "      <td>1.533</td>\n",
       "      <td>1.510</td>\n",
       "      <td>1.721</td>\n",
       "      <td>1.340</td>\n",
       "      <td>8.010</td>\n",
       "    </tr>\n",
       "  </tbody>\n",
       "</table>\n",
       "<p>8 rows × 30 columns</p>\n",
       "</div>"
      ],
      "text/plain": [
       "          Time       V1       V2       V3       V4       V5       V6       V7       V8       V9  \\\n",
       "count  778.000  778.000  778.000  778.000  778.000  778.000  778.000  778.000  778.000  778.000   \n",
       "mean    11.830   -0.669    0.822   -1.030    0.993   -0.520   -0.505   -0.864    0.258   -0.680   \n",
       "std      0.809    1.527    1.296    1.567    1.332    1.387    1.032    1.407    1.230    1.131   \n",
       "min      6.850   -4.113   -2.825   -4.131   -2.108   -3.789   -2.556   -4.467   -4.408   -3.292   \n",
       "25%     11.422   -1.762   -0.093   -2.335   -0.021   -1.352   -1.271   -1.861   -0.227   -1.608   \n",
       "50%     11.949   -0.700    0.871   -1.109    1.117   -0.430   -0.606   -0.667    0.167   -0.654   \n",
       "75%     12.495    0.909    1.815    0.358    2.165    0.493    0.074    0.266    0.782    0.204   \n",
       "max     12.753    1.592    3.787    2.027    3.189    3.102    2.567    2.043    3.690    2.065   \n",
       "\n",
       "       ...      V20      V21      V22      V23      V24      V25      V26      V27      V28  \\\n",
       "count  ...  778.000  778.000  778.000  778.000  778.000  778.000  778.000  778.000  778.000   \n",
       "mean   ...    0.138    0.256    0.008   -0.005   -0.026    0.036    0.024    0.125    0.050   \n",
       "std    ...    0.646    0.864    0.741    0.556    0.505    0.537    0.432    0.638    0.352   \n",
       "min    ...   -2.125   -3.820   -2.881   -3.466   -1.412   -1.976   -0.985   -2.681   -1.349   \n",
       "25%    ...   -0.191   -0.163   -0.540   -0.250   -0.380   -0.292   -0.273   -0.054   -0.052   \n",
       "50%    ...    0.013    0.163    0.034   -0.033    0.019    0.050   -0.014    0.060    0.036   \n",
       "75%    ...    0.467    0.635    0.566    0.181    0.383    0.380    0.322    0.441    0.217   \n",
       "max    ...    3.098    3.997    2.820    2.400    0.994    1.533    1.510    1.721    1.340   \n",
       "\n",
       "        Amount  \n",
       "count  778.000  \n",
       "mean     3.447  \n",
       "std      2.083  \n",
       "min      0.000  \n",
       "25%      1.346  \n",
       "50%      3.402  \n",
       "75%      5.267  \n",
       "max      8.010  \n",
       "\n",
       "[8 rows x 30 columns]"
      ]
     },
     "execution_count": 51,
     "metadata": {},
     "output_type": "execute_result"
    }
   ],
   "source": [
    "X_train_new.describe()"
   ]
  },
  {
   "cell_type": "code",
   "execution_count": 52,
   "id": "f4a4a8eb-f173-44e7-9531-0d8435bfd7ac",
   "metadata": {},
   "outputs": [
    {
     "name": "stdout",
     "output_type": "stream",
     "text": [
      "Distribution of the Classes in the subsample dataset\n",
      "0    0.504\n",
      "1    0.496\n",
      "Name: Class, dtype: float64\n"
     ]
    },
    {
     "data": {
      "image/png": "[encoded data removed]",
      "text/plain": [
       "<Figure size 640x480 with 1 Axes>"
      ]
     },
     "metadata": {},
     "output_type": "display_data"
    }
   ],
   "source": [
    "print('Distribution of the Classes in the subsample dataset')\n",
    "print(df_new['Class'].value_counts()/len(df_new))\n",
    "sns.countplot(x='Class', data=df_new)\n",
    "plt.title('Equally Distributed Classes', fontsize=14)\n",
    "plt.show()"
   ]
  },
  {
   "cell_type": "code",
   "execution_count": 53,
   "id": "30fc9df7-eb85-4a03-8aac-6c9c680d8da8",
   "metadata": {},
   "outputs": [],
   "source": [
    "# spot check the algorithms\n",
    "models = []\n",
    "models.append(('LR', LogisticRegression()))\n",
    "models.append(('LDA', LinearDiscriminantAnalysis()))\n",
    "models.append(('KNN', KNeighborsClassifier()))\n",
    "models.append(('CART', DecisionTreeClassifier()))\n",
    "models.append(('NB', GaussianNB()))\n",
    "models.append(('SVM', SVC()))\n",
    "#Neural Network\n",
    "models.append(('NN', MLPClassifier()))\n",
    "# #Ensable Models \n",
    "# Boosting methods\n",
    "models.append(('AB', AdaBoostClassifier()))\n",
    "models.append(('GBM', GradientBoostingClassifier()))\n",
    "# Bagging methods\n",
    "models.append(('RF', RandomForestClassifier()))\n",
    "models.append(('ET', ExtraTreesClassifier()))"
   ]
  },
  {
   "cell_type": "code",
   "execution_count": 54,
   "id": "a59aae6d-7871-472a-835c-48395cdce7b9",
   "metadata": {},
   "outputs": [
    {
     "name": "stdout",
     "output_type": "stream",
     "text": [
      "LR: 0.940859 (0.018384)\n",
      "LDA: 0.938378 (0.024129)\n",
      "KNN: 0.935698 (0.031542)\n",
      "CART: 0.890793 (0.038455)\n",
      "NB: 0.919014 (0.033992)\n",
      "SVM: 0.936946 (0.022893)\n",
      "NN: 0.935698 (0.023824)\n",
      "AB: 0.925408 (0.026306)\n",
      "GBM: 0.936996 (0.017715)\n",
      "RF: 0.935764 (0.016140)\n",
      "ET: 0.940892 (0.022328)\n"
     ]
    }
   ],
   "source": [
    "results = []\n",
    "names = []\n",
    "scoring='accuracy'\n",
    "for name, model in models:\n",
    "    kfold = KFold(n_splits=10, random_state=seed,shuffle=True)\n",
    "    cv_results = cross_val_score(model, X_train_new, Y_train_new, cv=kfold, scoring=scoring)\n",
    "    results.append(cv_results)\n",
    "    names.append(name)\n",
    "    msg = \"%s: %f (%f)\" % (name, cv_results.mean(), cv_results.std())\n",
    "    print(msg)"
   ]
  },
  {
   "cell_type": "code",
   "execution_count": 55,
   "id": "d0528e08-ff01-415e-bd7d-1cddf32203b5",
   "metadata": {},
   "outputs": [
    {
     "data": {
      "image/png": "[encoded data removed]",
      "text/plain": [
       "<Figure size 1200x800 with 1 Axes>"
      ]
     },
     "metadata": {},
     "output_type": "display_data"
    }
   ],
   "source": [
    "# compare algorithms\n",
    "fig = plt.figure()\n",
    "fig.suptitle('Algorithm Comparison')\n",
    "ax = fig.add_subplot(111)\n",
    "plt.boxplot(results)\n",
    "ax.set_xticklabels(names)\n",
    "fig.set_size_inches(12,8)\n",
    "plt.show()"
   ]
  },
  {
   "cell_type": "code",
   "execution_count": 56,
   "id": "aa1cf403-3106-41c8-8765-ca36e94de00a",
   "metadata": {},
   "outputs": [
    {
     "data": {
      "text/html": [
       "<style>#sk-container-id-7 {color: black;background-color: white;}#sk-container-id-7 pre{padding: 0;}#sk-container-id-7 div.sk-toggleable {background-color: white;}#sk-container-id-7 label.sk-toggleable__label {cursor: pointer;display: block;width: 100%;margin-bottom: 0;padding: 0.3em;box-sizing: border-box;text-align: center;}#sk-container-id-7 label.sk-toggleable__label-arrow:before {content: \"▸\";float: left;margin-right: 0.25em;color: #696969;}#sk-container-id-7 label.sk-toggleable__label-arrow:hover:before {color: black;}#sk-container-id-7 div.sk-estimator:hover label.sk-toggleable__label-arrow:before {color: black;}#sk-container-id-7 div.sk-toggleable__content {max-height: 0;max-width: 0;overflow: hidden;text-align: left;background-color: #f0f8ff;}#sk-container-id-7 div.sk-toggleable__content pre {margin: 0.2em;color: black;border-radius: 0.25em;background-color: #f0f8ff;}#sk-container-id-7 input.sk-toggleable__control:checked~div.sk-toggleable__content {max-height: 200px;max-width: 100%;overflow: auto;}#sk-container-id-7 input.sk-toggleable__control:checked~label.sk-toggleable__label-arrow:before {content: \"▾\";}#sk-container-id-7 div.sk-estimator input.sk-toggleable__control:checked~label.sk-toggleable__label {background-color: #d4ebff;}#sk-container-id-7 div.sk-label input.sk-toggleable__control:checked~label.sk-toggleable__label {background-color: #d4ebff;}#sk-container-id-7 input.sk-hidden--visually {border: 0;clip: rect(1px 1px 1px 1px);clip: rect(1px, 1px, 1px, 1px);height: 1px;margin: -1px;overflow: hidden;padding: 0;position: absolute;width: 1px;}#sk-container-id-7 div.sk-estimator {font-family: monospace;background-color: #f0f8ff;border: 1px dotted black;border-radius: 0.25em;box-sizing: border-box;margin-bottom: 0.5em;}#sk-container-id-7 div.sk-estimator:hover {background-color: #d4ebff;}#sk-container-id-7 div.sk-parallel-item::after {content: \"\";width: 100%;border-bottom: 1px solid gray;flex-grow: 1;}#sk-container-id-7 div.sk-label:hover label.sk-toggleable__label {background-color: #d4ebff;}#sk-container-id-7 div.sk-serial::before {content: \"\";position: absolute;border-left: 1px solid gray;box-sizing: border-box;top: 0;bottom: 0;left: 50%;z-index: 0;}#sk-container-id-7 div.sk-serial {display: flex;flex-direction: column;align-items: center;background-color: white;padding-right: 0.2em;padding-left: 0.2em;position: relative;}#sk-container-id-7 div.sk-item {position: relative;z-index: 1;}#sk-container-id-7 div.sk-parallel {display: flex;align-items: stretch;justify-content: center;background-color: white;position: relative;}#sk-container-id-7 div.sk-item::before, #sk-container-id-7 div.sk-parallel-item::before {content: \"\";position: absolute;border-left: 1px solid gray;box-sizing: border-box;top: 0;bottom: 0;left: 50%;z-index: -1;}#sk-container-id-7 div.sk-parallel-item {display: flex;flex-direction: column;z-index: 1;position: relative;background-color: white;}#sk-container-id-7 div.sk-parallel-item:first-child::after {align-self: flex-end;width: 50%;}#sk-container-id-7 div.sk-parallel-item:last-child::after {align-self: flex-start;width: 50%;}#sk-container-id-7 div.sk-parallel-item:only-child::after {width: 0;}#sk-container-id-7 div.sk-dashed-wrapped {border: 1px dashed gray;margin: 0 0.4em 0.5em 0.4em;box-sizing: border-box;padding-bottom: 0.4em;background-color: white;}#sk-container-id-7 div.sk-label label {font-family: monospace;font-weight: bold;display: inline-block;line-height: 1.2em;}#sk-container-id-7 div.sk-label-container {text-align: center;}#sk-container-id-7 div.sk-container {/* jupyter's `normalize.less` sets `[hidden] { display: none; }` but bootstrap.min.css set `[hidden] { display: none !important; }` so we also need the `!important` here to be able to override the default hidden behavior on the sphinx rendered scikit-learn.org. See: https://github.com/scikit-learn/scikit-learn/issues/21755 */display: inline-block !important;position: relative;}#sk-container-id-7 div.sk-text-repr-fallback {display: none;}</style><div id=\"sk-container-id-7\" class=\"sk-top-container\"><div class=\"sk-text-repr-fallback\"><pre>MLPClassifier()</pre><b>In a Jupyter environment, please rerun this cell to show the HTML representation or trust the notebook. <br />On GitHub, the HTML representation is unable to render, please try loading this page with nbviewer.org.</b></div><div class=\"sk-container\" hidden><div class=\"sk-item\"><div class=\"sk-estimator sk-toggleable\"><input class=\"sk-toggleable__control sk-hidden--visually\" id=\"sk-estimator-id-7\" type=\"checkbox\" checked><label for=\"sk-estimator-id-7\" class=\"sk-toggleable__label sk-toggleable__label-arrow\">MLPClassifier</label><div class=\"sk-toggleable__content\"><pre>MLPClassifier()</pre></div></div></div></div></div>"
      ],
      "text/plain": [
       "MLPClassifier()"
      ]
     },
     "execution_count": 56,
     "metadata": {},
     "output_type": "execute_result"
    }
   ],
   "source": [
    "model = MLPClassifier()\n",
    "model.fit(X_train_new, Y_train_new)"
   ]
  },
  {
   "cell_type": "code",
   "execution_count": 57,
   "id": "93c9507a-3956-4c7d-9e0f-61450b7e5af8",
   "metadata": {},
   "outputs": [
    {
     "name": "stdout",
     "output_type": "stream",
     "text": [
      "0.9656262069449809\n",
      "[[54905  1951]\n",
      " [    7    99]]\n",
      "              precision    recall  f1-score   support\n",
      "\n",
      "           0       1.00      0.97      0.98     56856\n",
      "           1       0.05      0.93      0.09       106\n",
      "\n",
      "    accuracy                           0.97     56962\n",
      "   macro avg       0.52      0.95      0.54     56962\n",
      "weighted avg       1.00      0.97      0.98     56962\n",
      "\n"
     ]
    }
   ],
   "source": [
    "# estimate accuracy on Original validation set\n",
    "predictions = model.predict(X_val)\n",
    "print(accuracy_score(Y_val, predictions))\n",
    "print(confusion_matrix(Y_val, predictions))\n",
    "print(classification_report(Y_val, predictions))"
   ]
  },
  {
   "cell_type": "code",
   "execution_count": 58,
   "id": "a89fcbbb-8704-4665-8227-dd2e2cd6a4ec",
   "metadata": {},
   "outputs": [
    {
     "data": {
      "text/plain": [
       "<AxesSubplot: xlabel='Predicted', ylabel='Actual'>"
      ]
     },
     "execution_count": 58,
     "metadata": {},
     "output_type": "execute_result"
    },
    {
     "data": {
      "image/png": "[encoded data removed]",
      "text/plain": [
       "<Figure size 640x480 with 2 Axes>"
      ]
     },
     "metadata": {},
     "output_type": "display_data"
    }
   ],
   "source": [
    "df_cm = pd.DataFrame(confusion_matrix(Y_val, predictions), columns=np.unique(Y_val), index = np.unique(Y_val))\n",
    "df_cm.index.name = 'Actual'\n",
    "df_cm.columns.name = 'Predicted'\n",
    "sns.heatmap(df_cm, cmap=\"Blues\", annot=True,annot_kws={\"size\": 16})# font size"
   ]
  },
  {
   "cell_type": "code",
   "execution_count": 59,
   "id": "ac4987b2-1d8b-4bf5-ab75-e41e2cbe3d00",
   "metadata": {},
   "outputs": [
    {
     "name": "stdout",
     "output_type": "stream",
     "text": [
      "Requirement already satisfied: imbalanced-learn in /usr/local/lib/python3.9/dist-packages (0.12.0)\n",
      "Requirement already satisfied: scipy>=1.5.0 in /usr/local/lib/python3.9/dist-packages (from imbalanced-learn) (1.9.2)\n",
      "Requirement already satisfied: scikit-learn>=1.0.2 in /usr/local/lib/python3.9/dist-packages (from imbalanced-learn) (1.1.2)\n",
      "Requirement already satisfied: numpy>=1.17.3 in /usr/local/lib/python3.9/dist-packages (from imbalanced-learn) (1.23.4)\n",
      "Requirement already satisfied: threadpoolctl>=2.0.0 in /usr/local/lib/python3.9/dist-packages (from imbalanced-learn) (3.1.0)\n",
      "Requirement already satisfied: joblib>=1.1.1 in /usr/local/lib/python3.9/dist-packages (from imbalanced-learn) (1.2.0)\n",
      "\u001b[33mWARNING: Running pip as the 'root' user can result in broken permissions and conflicting behaviour with the system package manager. It is recommended to use a virtual environment instead: https://pip.pypa.io/warnings/venv\u001b[0m\u001b[33m\n",
      "\u001b[0m"
     ]
    }
   ],
   "source": [
    "!pip install imbalanced-learn"
   ]
  },
  {
   "cell_type": "code",
   "execution_count": 60,
   "id": "7217fa75-38c3-4c74-9b34-846faee20f1d",
   "metadata": {},
   "outputs": [],
   "source": [
    "from imblearn.over_sampling import RandomOverSampler\n",
    "from imblearn.under_sampling import RandomUnderSampler\n",
    "ros = RandomOverSampler(sampling_strategy=0.5)\n",
    "X_over,Y_over=ros.fit_resample(X, Y)"
   ]
  },
  {
   "cell_type": "code",
   "execution_count": 61,
   "id": "82231bd9-7270-44bc-9bf5-a9f4dfeb5862",
   "metadata": {},
   "outputs": [
    {
     "data": {
      "text/plain": [
       "0         0\n",
       "1         0\n",
       "2         0\n",
       "3         0\n",
       "4         0\n",
       "         ..\n",
       "426467    1\n",
       "426468    1\n",
       "426469    1\n",
       "426470    1\n",
       "426471    1\n",
       "Name: Class, Length: 426472, dtype: int64"
      ]
     },
     "execution_count": 61,
     "metadata": {},
     "output_type": "execute_result"
    }
   ],
   "source": [
    "Y_over\n"
   ]
  },
  {
   "cell_type": "code",
   "execution_count": 62,
   "id": "8a28de1d-3d6b-485d-afa8-cc63598418c4",
   "metadata": {},
   "outputs": [
    {
     "name": "stdout",
     "output_type": "stream",
     "text": [
      "Not fraud    284315\n",
      "Fraud        142157\n",
      "Name: Class, dtype: int64\n"
     ]
    }
   ],
   "source": [
    "df = pd.concat([X_over, Y_over], axis=1)\n",
    "class_names = {0:'Not fraud',1:'Fraud'}\n",
    "print(df.Class.value_counts().rename(index=class_names))"
   ]
  },
  {
   "cell_type": "code",
   "execution_count": 63,
   "id": "25323431-9c7a-42f4-bf4d-f0a9c6c36290",
   "metadata": {},
   "outputs": [],
   "source": [
    "validation_size = 0.2\n",
    "\n",
    "\n",
    "X_train, X_val, Y_train, Y_val = train_test_split(X_over, Y_over, test_size=validation_size, random_state=seed)\n",
    "\n",
    "scoring = 'recall'\n",
    "\n",
    "# X_train and Y_train: Training data (used for model training)\n",
    "# X_val and Y_val: Validation data (used for model evaluation and hyperparameter tuning, if needed)"
   ]
  },
  {
   "cell_type": "code",
   "execution_count": 64,
   "id": "f364654a-90f5-4f9a-b2b3-c0ff430b5db2",
   "metadata": {},
   "outputs": [],
   "source": [
    "models = []\n",
    "models.append(('LR', LogisticRegression()))\n",
    "models.append(('LDA', LinearDiscriminantAnalysis()))\n",
    "models.append(('KNN', KNeighborsClassifier()))\n",
    "models.append(('CART', DecisionTreeClassifier()))"
   ]
  },
  {
   "cell_type": "code",
   "execution_count": 65,
   "id": "317080a0-81a0-4c38-b712-15440fe8ea22",
   "metadata": {},
   "outputs": [
    {
     "name": "stdout",
     "output_type": "stream",
     "text": [
      "LR: 0.894783 (0.013638)\n",
      "LDA: 0.790787 (0.003400)\n",
      "KNN: 1.000000 (0.000000)\n",
      "CART: 1.000000 (0.000000)\n"
     ]
    }
   ],
   "source": [
    "results = []\n",
    "names = []\n",
    "for name, model in models:\n",
    "    kfold = KFold(n_splits=10, random_state=seed,shuffle=True)\n",
    "    cv_results = cross_val_score(model, X_train, Y_train, cv=kfold, scoring=scoring)\n",
    "    results.append(cv_results)\n",
    "    names.append(name)\n",
    "    msg = \"%s: %f (%f)\" % (name, cv_results.mean(), cv_results.std())\n",
    "    print(msg)"
   ]
  },
  {
   "cell_type": "code",
   "execution_count": 66,
   "id": "5c3a80ea-7923-4dfa-8e5a-b485ad85902c",
   "metadata": {},
   "outputs": [
    {
     "data": {
      "text/html": [
       "<style>#sk-container-id-8 {color: black;background-color: white;}#sk-container-id-8 pre{padding: 0;}#sk-container-id-8 div.sk-toggleable {background-color: white;}#sk-container-id-8 label.sk-toggleable__label {cursor: pointer;display: block;width: 100%;margin-bottom: 0;padding: 0.3em;box-sizing: border-box;text-align: center;}#sk-container-id-8 label.sk-toggleable__label-arrow:before {content: \"▸\";float: left;margin-right: 0.25em;color: #696969;}#sk-container-id-8 label.sk-toggleable__label-arrow:hover:before {color: black;}#sk-container-id-8 div.sk-estimator:hover label.sk-toggleable__label-arrow:before {color: black;}#sk-container-id-8 div.sk-toggleable__content {max-height: 0;max-width: 0;overflow: hidden;text-align: left;background-color: #f0f8ff;}#sk-container-id-8 div.sk-toggleable__content pre {margin: 0.2em;color: black;border-radius: 0.25em;background-color: #f0f8ff;}#sk-container-id-8 input.sk-toggleable__control:checked~div.sk-toggleable__content {max-height: 200px;max-width: 100%;overflow: auto;}#sk-container-id-8 input.sk-toggleable__control:checked~label.sk-toggleable__label-arrow:before {content: \"▾\";}#sk-container-id-8 div.sk-estimator input.sk-toggleable__control:checked~label.sk-toggleable__label {background-color: #d4ebff;}#sk-container-id-8 div.sk-label input.sk-toggleable__control:checked~label.sk-toggleable__label {background-color: #d4ebff;}#sk-container-id-8 input.sk-hidden--visually {border: 0;clip: rect(1px 1px 1px 1px);clip: rect(1px, 1px, 1px, 1px);height: 1px;margin: -1px;overflow: hidden;padding: 0;position: absolute;width: 1px;}#sk-container-id-8 div.sk-estimator {font-family: monospace;background-color: #f0f8ff;border: 1px dotted black;border-radius: 0.25em;box-sizing: border-box;margin-bottom: 0.5em;}#sk-container-id-8 div.sk-estimator:hover {background-color: #d4ebff;}#sk-container-id-8 div.sk-parallel-item::after {content: \"\";width: 100%;border-bottom: 1px solid gray;flex-grow: 1;}#sk-container-id-8 div.sk-label:hover label.sk-toggleable__label {background-color: #d4ebff;}#sk-container-id-8 div.sk-serial::before {content: \"\";position: absolute;border-left: 1px solid gray;box-sizing: border-box;top: 0;bottom: 0;left: 50%;z-index: 0;}#sk-container-id-8 div.sk-serial {display: flex;flex-direction: column;align-items: center;background-color: white;padding-right: 0.2em;padding-left: 0.2em;position: relative;}#sk-container-id-8 div.sk-item {position: relative;z-index: 1;}#sk-container-id-8 div.sk-parallel {display: flex;align-items: stretch;justify-content: center;background-color: white;position: relative;}#sk-container-id-8 div.sk-item::before, #sk-container-id-8 div.sk-parallel-item::before {content: \"\";position: absolute;border-left: 1px solid gray;box-sizing: border-box;top: 0;bottom: 0;left: 50%;z-index: -1;}#sk-container-id-8 div.sk-parallel-item {display: flex;flex-direction: column;z-index: 1;position: relative;background-color: white;}#sk-container-id-8 div.sk-parallel-item:first-child::after {align-self: flex-end;width: 50%;}#sk-container-id-8 div.sk-parallel-item:last-child::after {align-self: flex-start;width: 50%;}#sk-container-id-8 div.sk-parallel-item:only-child::after {width: 0;}#sk-container-id-8 div.sk-dashed-wrapped {border: 1px dashed gray;margin: 0 0.4em 0.5em 0.4em;box-sizing: border-box;padding-bottom: 0.4em;background-color: white;}#sk-container-id-8 div.sk-label label {font-family: monospace;font-weight: bold;display: inline-block;line-height: 1.2em;}#sk-container-id-8 div.sk-label-container {text-align: center;}#sk-container-id-8 div.sk-container {/* jupyter's `normalize.less` sets `[hidden] { display: none; }` but bootstrap.min.css set `[hidden] { display: none !important; }` so we also need the `!important` here to be able to override the default hidden behavior on the sphinx rendered scikit-learn.org. See: https://github.com/scikit-learn/scikit-learn/issues/21755 */display: inline-block !important;position: relative;}#sk-container-id-8 div.sk-text-repr-fallback {display: none;}</style><div id=\"sk-container-id-8\" class=\"sk-top-container\"><div class=\"sk-text-repr-fallback\"><pre>DecisionTreeClassifier()</pre><b>In a Jupyter environment, please rerun this cell to show the HTML representation or trust the notebook. <br />On GitHub, the HTML representation is unable to render, please try loading this page with nbviewer.org.</b></div><div class=\"sk-container\" hidden><div class=\"sk-item\"><div class=\"sk-estimator sk-toggleable\"><input class=\"sk-toggleable__control sk-hidden--visually\" id=\"sk-estimator-id-8\" type=\"checkbox\" checked><label for=\"sk-estimator-id-8\" class=\"sk-toggleable__label sk-toggleable__label-arrow\">DecisionTreeClassifier</label><div class=\"sk-toggleable__content\"><pre>DecisionTreeClassifier()</pre></div></div></div></div></div>"
      ],
      "text/plain": [
       "DecisionTreeClassifier()"
      ]
     },
     "execution_count": 66,
     "metadata": {},
     "output_type": "execute_result"
    }
   ],
   "source": [
    "model = DecisionTreeClassifier()\n",
    "model.fit(X_train, Y_train)"
   ]
  },
  {
   "cell_type": "code",
   "execution_count": 67,
   "id": "65008e66-8ace-4685-a305-33e58542cc50",
   "metadata": {},
   "outputs": [
    {
     "name": "stdout",
     "output_type": "stream",
     "text": [
      "0.9996365554839088\n",
      "[[56866    31]\n",
      " [    0 28398]]\n",
      "              precision    recall  f1-score   support\n",
      "\n",
      "           0       1.00      1.00      1.00     56897\n",
      "           1       1.00      1.00      1.00     28398\n",
      "\n",
      "    accuracy                           1.00     85295\n",
      "   macro avg       1.00      1.00      1.00     85295\n",
      "weighted avg       1.00      1.00      1.00     85295\n",
      "\n"
     ]
    }
   ],
   "source": [
    "# estimate accuracy on validation set\n",
    "#rescaledValidationX = scaler.transform(X_validation)\n",
    "rescaledValidationX = X_val\n",
    "predictions = model.predict(rescaledValidationX)\n",
    "print(accuracy_score(Y_val, predictions))\n",
    "print(confusion_matrix(Y_val, predictions))\n",
    "print(classification_report(Y_val, predictions))"
   ]
  },
  {
   "cell_type": "code",
   "execution_count": 68,
   "id": "9e166287-e613-48da-b15d-cced6cd1acff",
   "metadata": {},
   "outputs": [
    {
     "data": {
      "text/plain": [
       "<AxesSubplot: xlabel='Predicted', ylabel='Actual'>"
      ]
     },
     "execution_count": 68,
     "metadata": {},
     "output_type": "execute_result"
    },
    {
     "data": {
      "image/png": "[encoded data removed]",
      "text/plain": [
       "<Figure size 640x480 with 2 Axes>"
      ]
     },
     "metadata": {},
     "output_type": "display_data"
    }
   ],
   "source": [
    "df_cm = pd.DataFrame(confusion_matrix(Y_val, predictions), columns=np.unique(Y_val), index = np.unique(Y_val))\n",
    "df_cm.index.name = 'Actual'\n",
    "df_cm.columns.name = 'Predicted'\n",
    "sns.heatmap(df_cm, cmap=\"Blues\", annot=True,annot_kws={\"size\": 16})# font size"
   ]
  },
  {
   "cell_type": "code",
   "execution_count": null,
   "id": "8b78afd6-0a75-47aa-bb38-bbe7e9f299b9",
   "metadata": {},
   "outputs": [],
   "source": []
  }
 ],
 "metadata": {
  "kernelspec": {
   "display_name": "Python 3 (ipykernel)",
   "language": "python",
   "name": "python3"
  },
  "language_info": {
   "codemirror_mode": {
    "name": "ipython",
    "version": 3
   },
   "file_extension": ".py",
   "mimetype": "text/x-python",
   "name": "python",
   "nbconvert_exporter": "python",
   "pygments_lexer": "ipython3",
   "version": "3.9.16"
  }
 },
 "nbformat": 4,
 "nbformat_minor": 5
}
